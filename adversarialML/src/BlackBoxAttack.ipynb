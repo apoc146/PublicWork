{
  "cells": [
    {
      "cell_type": "markdown",
      "metadata": {},
      "source": [
        "#### We will implement simplified black-box attacks (i.e., you do not have any access to the target model and its parameters) and evaluate transferability. The target model that we are attacking is trained on the MNIST dataset of 28×28 pixel images of handwritten digits, and we don’t know any other details. we decide to collect ten images from each dataset class (numbers 0-9) to train your substitute model (also called auxiliary or surrogate model). we can use any dataset available online to have your own training dataset."
      ]
    },
    {
      "cell_type": "code",
      "execution_count": null,
      "metadata": {
        "colab": {
          "base_uri": "https://localhost:8080/"
        },
        "id": "On0AEizWB5TF",
        "outputId": "91662c99-2b9e-4bdd-a871-ea0ba4128055"
      },
      "outputs": [
        {
          "data": {
            "text/plain": [
              "[name: \"/device:CPU:0\"\n",
              " device_type: \"CPU\"\n",
              " memory_limit: 268435456\n",
              " locality {\n",
              " }\n",
              " incarnation: 8585933483455051331\n",
              " xla_global_id: -1, name: \"/device:GPU:0\"\n",
              " device_type: \"GPU\"\n",
              " memory_limit: 14415560704\n",
              " locality {\n",
              "   bus_id: 1\n",
              "   links {\n",
              "   }\n",
              " }\n",
              " incarnation: 14976993196474310133\n",
              " physical_device_desc: \"device: 0, name: Tesla T4, pci bus id: 0000:00:04.0, compute capability: 7.5\"\n",
              " xla_global_id: 416903419]"
            ]
          },
          "execution_count": 1,
          "metadata": {},
          "output_type": "execute_result"
        }
      ],
      "source": [
        "from tensorflow.python.client import device_lib\n",
        "device_lib.list_local_devices()"
      ]
    },
    {
      "cell_type": "code",
      "execution_count": null,
      "metadata": {
        "colab": {
          "base_uri": "https://localhost:8080/"
        },
        "id": "Bq7qy5ZucTzJ",
        "outputId": "ebfc89bf-8aa2-4112-e611-0dc9ada6ab45"
      },
      "outputs": [
        {
          "name": "stdout",
          "output_type": "stream",
          "text": [
            "Mounted at /content/drive\n"
          ]
        }
      ],
      "source": [
        "from google.colab import drive\n",
        "drive.mount('/content/drive')"
      ]
    },
    {
      "cell_type": "code",
      "execution_count": null,
      "metadata": {
        "id": "wS2Pm2CwfSBn"
      },
      "outputs": [],
      "source": [
        "!cd '/content/drive/MyDrive/Purdue/SEM1/CS 529/Assignments/A4/network'"
      ]
    },
    {
      "cell_type": "code",
      "execution_count": null,
      "metadata": {
        "colab": {
          "base_uri": "https://localhost:8080/"
        },
        "id": "aOYZLtK8fama",
        "outputId": "7c5f9e93-9dac-46f2-8ee9-3734285411fd"
      },
      "outputs": [
        {
          "name": "stdout",
          "output_type": "stream",
          "text": [
            "drive  sample_data\n"
          ]
        }
      ],
      "source": [
        "!ls"
      ]
    },
    {
      "cell_type": "code",
      "execution_count": null,
      "metadata": {
        "colab": {
          "base_uri": "https://localhost:8080/"
        },
        "id": "_dJtam2ifN6K",
        "outputId": "56aef98d-35d3-4a23-ba57-6af511ec20b0"
      },
      "outputs": [
        {
          "name": "stdout",
          "output_type": "stream",
          "text": [
            "/content\n"
          ]
        }
      ],
      "source": [
        "!pwd"
      ]
    },
    {
      "cell_type": "code",
      "execution_count": null,
      "metadata": {
        "colab": {
          "base_uri": "https://localhost:8080/"
        },
        "id": "netxQPUiXHzg",
        "outputId": "bc371d4f-b56f-4d27-eb54-7c1164bf9d8b"
      },
      "outputs": [
        {
          "name": "stdout",
          "output_type": "stream",
          "text": [
            "Looking in indexes: https://pypi.org/simple, https://us-python.pkg.dev/colab-wheels/public/simple/\n",
            "Collecting adversarial-robustness-toolbox\n",
            "  Downloading adversarial_robustness_toolbox-1.12.2-py3-none-any.whl (1.4 MB)\n",
            "\u001b[K     |████████████████████████████████| 1.4 MB 27.2 MB/s \n",
            "\u001b[?25hRequirement already satisfied: tqdm in /usr/local/lib/python3.8/dist-packages (from adversarial-robustness-toolbox) (4.64.1)\n",
            "Requirement already satisfied: setuptools in /usr/local/lib/python3.8/dist-packages (from adversarial-robustness-toolbox) (57.4.0)\n",
            "Requirement already satisfied: numpy>=1.18.0 in /usr/local/lib/python3.8/dist-packages (from adversarial-robustness-toolbox) (1.21.6)\n",
            "Requirement already satisfied: scipy>=1.4.1 in /usr/local/lib/python3.8/dist-packages (from adversarial-robustness-toolbox) (1.7.3)\n",
            "Requirement already satisfied: scikit-learn<1.1.0,>=0.22.2 in /usr/local/lib/python3.8/dist-packages (from adversarial-robustness-toolbox) (1.0.2)\n",
            "Requirement already satisfied: six in /usr/local/lib/python3.8/dist-packages (from adversarial-robustness-toolbox) (1.15.0)\n",
            "Requirement already satisfied: joblib>=0.11 in /usr/local/lib/python3.8/dist-packages (from scikit-learn<1.1.0,>=0.22.2->adversarial-robustness-toolbox) (1.2.0)\n",
            "Requirement already satisfied: threadpoolctl>=2.0.0 in /usr/local/lib/python3.8/dist-packages (from scikit-learn<1.1.0,>=0.22.2->adversarial-robustness-toolbox) (3.1.0)\n",
            "Installing collected packages: adversarial-robustness-toolbox\n",
            "Successfully installed adversarial-robustness-toolbox-1.12.2\n"
          ]
        }
      ],
      "source": [
        "!pip install adversarial-robustness-toolbox"
      ]
    },
    {
      "cell_type": "code",
      "execution_count": null,
      "metadata": {
        "id": "e380cxQjXHzi"
      },
      "outputs": [],
      "source": [
        "# Imports\n",
        "import keras\n",
        "import random\n",
        "import numpy as np\n",
        "import matplotlib.pyplot as plt\n",
        "\n",
        "from keras.datasets import mnist\n",
        "from keras.models import Sequential\n",
        "from keras.layers import Dense, Dropout, Flatten\n",
        "from keras.layers import Conv2D, MaxPooling2D\n",
        "from keras import backend as K\n",
        "\n",
        "from art.attacks.evasion import CarliniL2Method, SaliencyMapMethod, ElasticNet\n",
        "from art.estimators.classification import KerasClassifier\n",
        "\n",
        "# Set the random seeds. Do not change this!\n",
        "seedVal = 41\n",
        "random.seed(seedVal)\n",
        "np.random.seed(seedVal)\n",
        "\n",
        "# Define some constants.\n",
        "NUM_CLASSES = 10\n",
        "BATCH_SIZE = 32\n",
        "\n",
        "#######\n",
        "import tensorflow as tf\n",
        "tf.compat.v1.disable_eager_execution()"
      ]
    },
    {
      "cell_type": "markdown",
      "metadata": {
        "id": "e0sK_p65XHzi"
      },
      "source": [
        "## Part 1"
      ]
    },
    {
      "cell_type": "markdown",
      "metadata": {
        "id": "dLkwuPEqXHzj"
      },
      "source": [
        "### You need to complete the following."
      ]
    },
    {
      "cell_type": "code",
      "execution_count": null,
      "metadata": {
        "colab": {
          "base_uri": "https://localhost:8080/"
        },
        "id": "Xm1S9pGoXHzj",
        "outputId": "e8a5f504-4a77-4122-a69a-92d5cf4e7d07"
      },
      "outputs": [
        {
          "name": "stdout",
          "output_type": "stream",
          "text": [
            "Downloading data from https://storage.googleapis.com/tensorflow/tf-keras-datasets/mnist.npz\n",
            "11490434/11490434 [==============================] - 2s 0us/step\n"
          ]
        }
      ],
      "source": [
        "# Load the MNIST dataset\n",
        "(x_train, y_train), (x_test, y_test) = mnist.load_data()\n",
        "\n",
        "# Normalization\n",
        "x_train = keras.utils.normalize(x_train, axis=1)\n",
        "x_test = keras.utils.normalize(x_test, axis=1)\n",
        "\n",
        "# convert class vectors to binary class matrices\n",
        "y_train = keras.utils.to_categorical(y_train, NUM_CLASSES)\n",
        "y_test = keras.utils.to_categorical(y_test, NUM_CLASSES)\n",
        "\n",
        "K.set_image_data_format('channels_first')\n",
        "\n",
        "# Reshape the data.\n",
        "x_train = x_train.reshape(x_train.shape[0], 1, 28, 28)\n",
        "x_test = x_test.reshape(x_test.shape[0], 1, 28, 28)"
      ]
    },
    {
      "cell_type": "code",
      "execution_count": null,
      "metadata": {
        "colab": {
          "base_uri": "https://localhost:8080/"
        },
        "id": "SQnemAAxZuGL",
        "outputId": "395a7926-928f-4608-8815-fbf23285002f"
      },
      "outputs": [
        {
          "name": "stdout",
          "output_type": "stream",
          "text": [
            "(60000, 1, 28, 28)\n",
            "(10000, 1, 28, 28)\n",
            "(60000, 10)\n",
            "(10000, 10)\n",
            "[0. 0. 0. 0. 1. 0. 0. 0. 0. 0.]\n"
          ]
        }
      ],
      "source": [
        "print(x_train.shape)\n",
        "print(x_test.shape)\n",
        "print(y_train.shape)\n",
        "print(y_test.shape)\n",
        "print(y_train[2])"
      ]
    },
    {
      "cell_type": "code",
      "execution_count": null,
      "metadata": {
        "id": "DRH9kQGNXHzk"
      },
      "outputs": [],
      "source": [
        "# Build a training dataset for the substitute model\n",
        "# Collect ten images from each dataset class (numbers 0-9)\n",
        "selected_examples = []\n",
        "for target_label in range(0, 10):\n",
        "    count = 0\n",
        "    for i in range(y_train.shape[0]):\n",
        "        if y_train[i].tolist().index(1) == target_label:\n",
        "            count += 1\n",
        "            selected_examples.append((x_train[i, :, :], y_train[i]))\n",
        "            if count == 10:\n",
        "                break\n",
        "\n"
      ]
    },
    {
      "cell_type": "code",
      "execution_count": null,
      "metadata": {
        "colab": {
          "base_uri": "https://localhost:8080/"
        },
        "id": "rjwGrmcOceHb",
        "outputId": "6067b39c-2f02-480c-fbd1-a67954a0a4bb"
      },
      "outputs": [
        {
          "data": {
            "text/plain": [
              "list"
            ]
          },
          "execution_count": 11,
          "metadata": {},
          "output_type": "execute_result"
        }
      ],
      "source": [
        "type(selected_examples)"
      ]
    },
    {
      "cell_type": "code",
      "execution_count": null,
      "metadata": {
        "id": "Ow8phnTFa4dq"
      },
      "outputs": [],
      "source": [
        "# Convert selected examples to numpy array\n",
        "final_train_x = np.array([ele[0] for ele in selected_examples])\n",
        "final_train_y = np.array([ele[1] for ele in selected_examples])"
      ]
    },
    {
      "cell_type": "code",
      "execution_count": null,
      "metadata": {
        "colab": {
          "base_uri": "https://localhost:8080/"
        },
        "id": "2NzcM7QGczuP",
        "outputId": "c9e76818-e698-422c-c481-3d06a0f6f4cd"
      },
      "outputs": [
        {
          "name": "stdout",
          "output_type": "stream",
          "text": [
            "(100, 1, 28, 28)\n",
            "(100, 10)\n",
            "[0. 0. 0. 0. 0. 0. 0. 0. 0. 1.]\n"
          ]
        }
      ],
      "source": [
        "print(final_train_x.shape)\n",
        "print(final_train_y.shape)\n",
        "print(final_train_y[99])"
      ]
    },
    {
      "cell_type": "code",
      "execution_count": null,
      "metadata": {
        "colab": {
          "base_uri": "https://localhost:8080/"
        },
        "id": "fyaldlrzXHzk",
        "outputId": "a225a210-9e5b-47df-f5e4-6a739fa43bdd"
      },
      "outputs": [
        {
          "name": "stdout",
          "output_type": "stream",
          "text": [
            "Train on 100 samples\n",
            "Epoch 1/10\n",
            "100/100 [==============================] - 10s 97ms/sample - loss: 2.2899 - accuracy: 0.1400\n",
            "Epoch 2/10\n",
            "100/100 [==============================] - 0s 299us/sample - loss: 2.0018 - accuracy: 0.3800\n",
            "Epoch 3/10\n",
            "100/100 [==============================] - 0s 445us/sample - loss: 1.6384 - accuracy: 0.5300\n",
            "Epoch 4/10\n",
            "100/100 [==============================] - 0s 361us/sample - loss: 1.2825 - accuracy: 0.6600\n",
            "Epoch 5/10\n",
            "100/100 [==============================] - 0s 459us/sample - loss: 0.9360 - accuracy: 0.7200\n",
            "Epoch 6/10\n",
            "100/100 [==============================] - 0s 350us/sample - loss: 0.8223 - accuracy: 0.7600\n",
            "Epoch 7/10\n",
            "100/100 [==============================] - 0s 312us/sample - loss: 0.7132 - accuracy: 0.7700\n",
            "Epoch 8/10\n",
            "100/100 [==============================] - 0s 313us/sample - loss: 0.4940 - accuracy: 0.8500\n",
            "Epoch 9/10\n",
            "100/100 [==============================] - 0s 319us/sample - loss: 0.4495 - accuracy: 0.8300\n",
            "Epoch 10/10\n",
            "100/100 [==============================] - 0s 351us/sample - loss: 0.3902 - accuracy: 0.8900\n"
          ]
        }
      ],
      "source": [
        "# Train a CNN-based substitute model using the newly collected dataset\n",
        "substitute_model = Sequential()\n",
        "\n",
        "# Define the intermediate layers.\n",
        "substitute_model.add(Conv2D(32, kernel_size=(3, 3),\n",
        "                 activation='relu',\n",
        "                 input_shape=(1,28,28)))\n",
        "\n",
        "#64 convolution filters used each of size 3x3\n",
        "substitute_model.add(Conv2D(64, (3, 3), activation='relu'))\n",
        "\n",
        "#choose the best features via pooling\n",
        "substitute_model.add(MaxPooling2D(pool_size=(2, 2)))\n",
        "\n",
        "#To improve convergence\n",
        "substitute_model.add(Dropout(0.25))\n",
        "\n",
        "#flatten\n",
        "substitute_model.add(Flatten())\n",
        "\n",
        "# #fully connected\n",
        "substitute_model.add(Dense(128, activation='relu'))\n",
        "\n",
        "#add one more dropout for convergence\n",
        "substitute_model.add(Dropout(0.5))\n",
        "\n",
        "substitute_model.add(Dense(NUM_CLASSES, activation='softmax'))\n",
        "\n",
        "# Compile the model\n",
        "substitute_model.compile(optimizer='adam', \n",
        "              loss='sparse_categorical_crossentropy', \n",
        "              metrics=['accuracy'])\n",
        "\n",
        "substitute_model = KerasClassifier(model=substitute_model, clip_values=(0,1))\n",
        "\n",
        "# Fit the model\n",
        "substitute_model.fit(final_train_x, final_train_y, nb_epochs=10, batch_size=BATCH_SIZE)"
      ]
    },
    {
      "cell_type": "markdown",
      "metadata": {
        "id": "gxjInJMMXHzk"
      },
      "source": [
        "    Please ONLY use the following attack methods."
      ]
    },
    {
      "cell_type": "code",
      "execution_count": null,
      "metadata": {
        "id": "7hyl2pWUXHzl"
      },
      "outputs": [],
      "source": [
        "# Define methods for generating \"targetted\" adversarial examples\n",
        "def generate_adv_examples_CarliniL2Method(classifier, x, target_y):\n",
        "    attack = CarliniL2Method(classifier,targeted=True)\n",
        "    return attack.generate(x,target_y)\n",
        "\n",
        "def generate_adv_examples_ElasticNet(classifier, x, target_y):\n",
        "    attack = ElasticNet(classifier,targeted=True)\n",
        "    return attack.generate(x,target_y)\n",
        "\n",
        "def generate_adv_examples_SaliencyMapMethod(classifier, x, target_y):\n",
        "    attack = SaliencyMapMethod(classifier)\n",
        "    return attack.generate(x,target_y)"
      ]
    },
    {
      "cell_type": "code",
      "execution_count": null,
      "metadata": {
        "id": "x99Hl0mSXHzl"
      },
      "outputs": [],
      "source": [
        "# Build a mapping from the true label to the fake label\n",
        "# For example, in the mapping below, we want the classifier to predict 0 images as 8.\n",
        "label_map = {0:8, 1:9, 2:3, 3:5, 4:6, 5:7, 6:4, 7:2, 8:1, 9:0}\n",
        "for k, v in label_map.items():\n",
        "    assert(k != v)\n",
        "assert(len(set(label_map.keys())) == 10)\n",
        "assert(len(set(label_map.values())) == 10)\n",
        "\n",
        "# Build target_y\n",
        "target_y_labels = []\n",
        "for i in range(final_train_y.shape[0]):\n",
        "    cur_true_label = final_train_y[i].tolist().index(1)\n",
        "    target_label = label_map[cur_true_label]\n",
        "    target_y_labels.append(target_label)\n",
        "target_y_labels = np.asarray(target_y_labels)\n",
        "target_y = keras.utils.to_categorical(target_y_labels, NUM_CLASSES)\n"
      ]
    },
    {
      "cell_type": "code",
      "execution_count": null,
      "metadata": {
        "colab": {
          "base_uri": "https://localhost:8080/",
          "height": 104,
          "referenced_widgets": [
            "facdd66059394a1c96124d84641e728d",
            "e4f7151afb1a4ea9b2ceb02a77cf79c4",
            "1b9dadfa4edb474f834b851aa38c557e",
            "14907b34787b4f0abe5e3d9c083c6d57",
            "deaad40f7c954c729fd4015d339cd68d",
            "147ed42382104f698245603b7376e06c",
            "6d2680fffe9e491e8101f2fafc5a9f0a",
            "80467a5a10364ccfa30fc778f567dfa1",
            "bf9ce0aecc2b4327945fc7f67cf9dcf3",
            "afc22ea02ea04a6dabf371484f8fc13a",
            "3a307b66254c46028aaaff0b0852d559"
          ]
        },
        "id": "6XCE6a3hp9nO",
        "outputId": "f2840866-d41f-44b7-95d6-2096547b5c3e"
      },
      "outputs": [
        {
          "data": {
            "application/vnd.jupyter.widget-view+json": {
              "model_id": "facdd66059394a1c96124d84641e728d",
              "version_major": 2,
              "version_minor": 0
            },
            "text/plain": [
              "C&W L_2:   0%|          | 0/100 [00:00<?, ?it/s]"
            ]
          },
          "metadata": {},
          "output_type": "display_data"
        },
        {
          "name": "stderr",
          "output_type": "stream",
          "text": [
            "/usr/local/lib/python3.8/dist-packages/keras/engine/training_v1.py:2067: UserWarning: `Model.state_updates` will be removed in a future version. This property should not be used in TensorFlow 2.0, as `updates` are applied automatically.\n",
            "  updates=self.state_updates,\n"
          ]
        }
      ],
      "source": [
        "# Generate 100 adversarial images\n",
        "carlinil_adv_examples = generate_adv_examples_CarliniL2Method(substitute_model,final_train_x,target_y)"
      ]
    },
    {
      "cell_type": "code",
      "execution_count": null,
      "metadata": {
        "colab": {
          "base_uri": "https://localhost:8080/"
        },
        "id": "CpJpybQ82jr3",
        "outputId": "c60e4f41-8d9f-4722-b031-189ad086eb5e"
      },
      "outputs": [
        {
          "name": "stdout",
          "output_type": "stream",
          "text": [
            "For CarliniL2Method attack, MR = 0.22\n"
          ]
        }
      ],
      "source": [
        "from sklearn.metrics import accuracy_score\n",
        "\n",
        "predictions = substitute_model.predict(carlinil_adv_examples)\n",
        "carlinil_mr = accuracy_score(np.argmax(predictions,axis=1), np.argmax(target_y,axis=1))\n",
        "print('For CarliniL2Method attack, MR = {}'.format(carlinil_mr))"
      ]
    },
    {
      "cell_type": "code",
      "execution_count": null,
      "metadata": {
        "colab": {
          "base_uri": "https://localhost:8080/",
          "height": 49,
          "referenced_widgets": [
            "a2cdc62cd8b542c6ab2c0cc6bbbbdcb5",
            "0638f449ff304960999c32599b35c988",
            "f76bcbedc6a34490b5dbd907b46ecffa",
            "5562e12c03c14e4db60ed0f4306ab7ab",
            "e4ec27099c5a4c6bb7a9e9b7bd3b8b4b",
            "80628ee96f7944689741c4de7d6b9b81",
            "b69176bc63b04d77b1fbf8e1880db64e",
            "dd97bf2cf26042b1a95bd98be7c4b32f",
            "0393dbb5d5fa4f10b31d9033a4aeee3a",
            "5cbcad72577243d1be87a84369bc7eea",
            "9c1c1dab86464bb2a57c71379288ef00"
          ]
        },
        "id": "WXaC1keP88DH",
        "outputId": "4e569b8e-2199-487e-c6f0-e98aad728b62"
      },
      "outputs": [
        {
          "data": {
            "application/vnd.jupyter.widget-view+json": {
              "model_id": "a2cdc62cd8b542c6ab2c0cc6bbbbdcb5",
              "version_major": 2,
              "version_minor": 0
            },
            "text/plain": [
              "EAD:   0%|          | 0/100 [00:00<?, ?it/s]"
            ]
          },
          "metadata": {},
          "output_type": "display_data"
        }
      ],
      "source": [
        "# Generate 100 adversarial images\n",
        "elastic_net_adv_examples = generate_adv_examples_ElasticNet(substitute_model,final_train_x,target_y)"
      ]
    },
    {
      "cell_type": "code",
      "execution_count": null,
      "metadata": {
        "colab": {
          "base_uri": "https://localhost:8080/",
          "height": 49,
          "referenced_widgets": [
            "a4537647c4de45d5a4bc8ba40856e9f9",
            "663758f70236457e8727cfce1566ae3f",
            "40baf31d9d014d17ad000fa09814bd41",
            "5cdc3843f7754a34acfd436dff91d159",
            "19f6145240be4e078d1e4d609aed91df",
            "63764a9f7bf24ac0a2f893207c694fa9",
            "b32def4a06af42eba13bfca083ab64a6",
            "924f58acd9d24f4499243c6bd1dde278",
            "f4f2fbf74cb349459e333cd334dc2018",
            "a942de8a8d4e422c95508ad2b1f64ceb",
            "5b612bda9bb548ad894175e515dd5e17"
          ]
        },
        "id": "DgQONkBc89Jt",
        "outputId": "549a5dc5-49f7-4018-8a55-f899c241b7b9"
      },
      "outputs": [
        {
          "data": {
            "application/vnd.jupyter.widget-view+json": {
              "model_id": "a4537647c4de45d5a4bc8ba40856e9f9",
              "version_major": 2,
              "version_minor": 0
            },
            "text/plain": [
              "JSMA:   0%|          | 0/100 [00:00<?, ?it/s]"
            ]
          },
          "metadata": {},
          "output_type": "display_data"
        }
      ],
      "source": [
        "# Generate 100 adversarial images\n",
        "saliency_adv_examples = generate_adv_examples_SaliencyMapMethod(substitute_model,final_train_x,target_y)"
      ]
    },
    {
      "cell_type": "code",
      "execution_count": null,
      "metadata": {
        "colab": {
          "base_uri": "https://localhost:8080/"
        },
        "id": "tbZwUQ3JXHzl",
        "outputId": "d4b41b9f-3310-490f-a44b-592e34c91007"
      },
      "outputs": [
        {
          "name": "stdout",
          "output_type": "stream",
          "text": [
            "For CarliniL2Method attack, MR = 0.22\n",
            "For ElasticNet attack, MR = 0.92\n",
            "For SaliencyMapMethod attack, MR = 1.0\n"
          ]
        }
      ],
      "source": [
        "# Calculate Misclassification Ratio (MR) for CarliniL2Method attack\n",
        "from sklearn.metrics import accuracy_score\n",
        "\n",
        "predictions = substitute_model.predict(carlinil_adv_examples)\n",
        "carlinil_mr = accuracy_score(np.argmax(predictions,axis=1), np.argmax(target_y,axis=1))\n",
        "print('For CarliniL2Method attack, MR = {}'.format(carlinil_mr))\n",
        "\n",
        "# Calculate Misclassification Ratio (MR) for ElasticNet attack\n",
        "predictions = substitute_model.predict(elastic_net_adv_examples)\n",
        "elastic_net_mr = accuracy_score(np.argmax(predictions,axis=1), np.argmax(target_y,axis=1))\n",
        "print('For ElasticNet attack, MR = {}'.format(elastic_net_mr))\n",
        "\n",
        "# Calculate Misclassification Ratio (MR) for SaliencyMapMethod attack\n",
        "predictions = substitute_model.predict(saliency_adv_examples)\n",
        "saliency_mr = accuracy_score(np.argmax(predictions,axis=1), np.argmax(target_y,axis=1))\n",
        "print('For SaliencyMapMethod attack, MR = {}'.format(saliency_mr))"
      ]
    },
    {
      "cell_type": "code",
      "execution_count": null,
      "metadata": {
        "colab": {
          "base_uri": "https://localhost:8080/",
          "height": 281
        },
        "id": "2o0-176hXHzl",
        "outputId": "320e1880-dfae-4cd9-ca7f-e75440f20554"
      },
      "outputs": [
        {
          "data": {
            "image/png": "[encoded data removed]",
            "text/plain": [
              "<Figure size 432x288 with 1 Axes>"
            ]
          },
          "metadata": {
            "needs_background": "light"
          },
          "output_type": "display_data"
        }
      ],
      "source": [
        "# Make a plot\n",
        "X = ['CarliniL2Method','ElasticNet', 'SaliencyMapMethod']\n",
        "plt.bar(X,[carlinil_mr,elastic_net_mr,elastic_net_mr], color=['r', 'g', 'b'])\n",
        "plt.title('Misclassification Ratio (MR) for each attack')\n",
        "plt.show()\n",
        "plt.close()"
      ]
    },
    {
      "cell_type": "markdown",
      "metadata": {
        "id": "5F7mMEWuXHzm"
      },
      "source": [
        "## Part 2"
      ]
    },
    {
      "cell_type": "markdown",
      "metadata": {
        "id": "WLKiIsakXHzm"
      },
      "source": [
        "### You need to complete the following."
      ]
    },
    {
      "cell_type": "code",
      "execution_count": null,
      "metadata": {
        "colab": {
          "base_uri": "https://localhost:8080/"
        },
        "id": "cPzRRLFkTck2",
        "outputId": "ad3c2151-1de8-4311-f889-488cf1f437bb"
      },
      "outputs": [
        {
          "data": {
            "text/plain": [
              "(100, 10)"
            ]
          },
          "execution_count": 23,
          "metadata": {},
          "output_type": "execute_result"
        }
      ],
      "source": [
        "final_train_y.shape"
      ]
    },
    {
      "cell_type": "code",
      "execution_count": null,
      "metadata": {
        "colab": {
          "base_uri": "https://localhost:8080/"
        },
        "id": "T1Kuwq--XHzm",
        "outputId": "2e7812dc-5e1e-4247-c07d-1c4211bcc259"
      },
      "outputs": [
        {
          "name": "stdout",
          "output_type": "stream",
          "text": [
            "For images of true class = 0\n",
            "Methods \t L0 \t L2 \t L_inf\n",
            "carlinil \t 258.6 \t 0.03153639007207711 \t 0.007154470903532833\n",
            "elastic_net \t 263.6 \t 1.7094131597709457 \t 0.4244403458536551\n",
            "saliency \t 204.4 \t 3.1282337713424235 \t 0.9700000091185113\n",
            "\n",
            "\n",
            "For images of true class = 1\n",
            "Methods \t L0 \t L2 \t L_inf\n",
            "carlinil \t 164.4 \t 0.15187634365539499 \t 0.0359972787347754\n",
            "elastic_net \t 144.3 \t 1.437998189946112 \t 0.45645425307552384\n",
            "saliency \t 101.0 \t 2.6418002797574207 \t 1.0\n",
            "\n",
            "\n",
            "For images of true class = 2\n",
            "Methods \t L0 \t L2 \t L_inf\n",
            "carlinil \t 530.5 \t 0.7807958836834683 \t 0.3082036587330629\n",
            "elastic_net \t 244.7 \t 1.4764724768892004 \t 0.5673485354968324\n",
            "saliency \t 187.5 \t 2.707346388430333 \t 0.9879684005483916\n",
            "\n",
            "\n",
            "For images of true class = 3\n",
            "Methods \t L0 \t L2 \t L_inf\n",
            "carlinil \t 293.9 \t 0.2856092365184077 \t 0.06938494694176607\n",
            "elastic_net \t 221.8 \t 1.5007922779595055 \t 0.3760474358153888\n",
            "saliency \t 178.7 \t 4.036919302422559 \t 1.0\n",
            "\n",
            "\n",
            "For images of true class = 4\n",
            "Methods \t L0 \t L2 \t L_inf\n",
            "carlinil \t 209.1 \t 0.11809147158538798 \t 0.03422032220051961\n",
            "elastic_net \t 175.1 \t 0.8508601009718418 \t 0.2681175380953311\n",
            "saliency \t 156.5 \t 3.7184464603528107 \t 0.9845973462261787\n",
            "\n",
            "\n",
            "For images of true class = 5\n",
            "Methods \t L0 \t L2 \t L_inf\n",
            "carlinil \t 117.6 \t 9.957177775996605e-08 \t 2.7308131922421097e-08\n",
            "elastic_net \t 215.8 \t 2.6365501309009 \t 0.6488893794522148\n",
            "saliency \t 126.5 \t 3.515666294507369 \t 1.0\n",
            "\n",
            "\n",
            "For images of true class = 6\n",
            "Methods \t L0 \t L2 \t L_inf\n",
            "carlinil \t 461.9 \t 0.7373185640100293 \t 0.14293992616953588\n",
            "elastic_net \t 207.2 \t 1.5865883502066243 \t 0.42750120393068236\n",
            "saliency \t 155.2 \t 2.930511488582092 \t 0.9724457848236314\n",
            "\n",
            "\n",
            "For images of true class = 7\n",
            "Methods \t L0 \t L2 \t L_inf\n",
            "carlinil \t 125.6 \t 9.339907505943628e-08 \t 2.6560127996955173e-08\n",
            "elastic_net \t 231.0 \t 2.3921736512592764 \t 0.5754144411800912\n",
            "saliency \t 143.6 \t 4.151310544293457 \t 1.0\n",
            "\n",
            "\n",
            "For images of true class = 8\n",
            "Methods \t L0 \t L2 \t L_inf\n",
            "carlinil \t 477.7 \t 0.4255700826309467 \t 0.10188966389551321\n",
            "elastic_net \t 185.7 \t 1.3655845429412117 \t 0.3737663042777159\n",
            "saliency \t 163.9 \t 2.2801726266048656 \t 0.8843144800685765\n",
            "\n",
            "\n",
            "For images of true class = 9\n",
            "Methods \t L0 \t L2 \t L_inf\n",
            "carlinil \t 189.8 \t 0.009894022427502574 \t 0.003097333341558095\n",
            "elastic_net \t 206.0 \t 1.9335993450741653 \t 0.43674888257453953\n",
            "saliency \t 139.1 \t 3.520159303664781 \t 0.9300000065598615\n",
            "\n",
            "\n"
          ]
        }
      ],
      "source": [
        "# Imports\n",
        "from numpy import linalg as LA\n",
        "\n",
        "for class_label in range(0, 10):\n",
        "    print('For images of true class = {}'.format(class_label))\n",
        "    norms_average = {\"carlinil\": {'l0':0,'l2':0,'l_inf':0}, \"elastic_net\": {'l0':0,'l2':0,'l_inf':0}, \"saliency\": {'l0':0,'l2':0,'l_inf':0} }\n",
        "    \n",
        "    for i in range(final_train_y.shape[0]):\n",
        "        cur_true_label = final_train_y[i].tolist().index(1)\n",
        "        if cur_true_label == class_label:\n",
        "            for attack_method in ['carlinil', 'elastic_net', 'saliency']:\n",
        "                if attack_method == 'carlinil': cur_adv_examples=carlinil_adv_examples\n",
        "                  # carlinil_l0=LA.norm(carlinil_adv_examples[i],1)\n",
        "                  # carlinil_l2=LA.norm(carlinil_adv_examples[i],2)\n",
        "                  # carlinil_linf=LA.norm(carlinil_adv_examples[i],inf)\n",
        "                elif attack_method == 'elastic_net': cur_adv_examples=elastic_net_adv_examples\n",
        "                elif attack_method == 'saliency': cur_adv_examples=saliency_adv_examples\n",
        "                x_diff = (final_train_x[i].squeeze() - cur_adv_examples[i].squeeze()).reshape(-1)\n",
        "                norms_average[attack_method]['l0'] += LA.norm(x_diff,0)\n",
        "                norms_average[attack_method]['l2'] += LA.norm(x_diff,2)\n",
        "                norms_average[attack_method]['l_inf'] += LA.norm(x_diff,np.inf)\n",
        "            \n",
        "    print('Methods \\t L0 \\t L2 \\t L_inf')\n",
        "    for attack_method in ['carlinil', 'elastic_net', 'saliency']:\n",
        "        l0_average = norms_average[attack_method]['l0']/10\n",
        "        l2_average = norms_average[attack_method]['l2']/10\n",
        "        linf_average = norms_average[attack_method]['l_inf']/10\n",
        "        print('{} \\t {} \\t {} \\t {}'.format(attack_method, l0_average, l2_average, linf_average))\n",
        "    print('\\n')\n"
      ]
    },
    {
      "cell_type": "markdown",
      "metadata": {
        "id": "F-yEki_4XHzm"
      },
      "source": [
        "## Part 3"
      ]
    },
    {
      "cell_type": "code",
      "execution_count": null,
      "metadata": {
        "id": "JPi_jHsxiz5R"
      },
      "outputs": [],
      "source": [
        "import sys\n",
        "sys.path.insert(0,'/content/drive/MyDrive/Purdue/SEM1/CS 529/Assignments/A4')\n",
        "import network"
      ]
    },
    {
      "cell_type": "markdown",
      "metadata": {
        "id": "ux_7I14ZXHzm"
      },
      "source": [
        "### You need to complete the following."
      ]
    },
    {
      "cell_type": "code",
      "execution_count": null,
      "metadata": {
        "colab": {
          "base_uri": "https://localhost:8080/"
        },
        "id": "Q-RJVi7tzqnW",
        "outputId": "39b0e17e-7561-4fec-cf4d-fc441543e4fa"
      },
      "outputs": [
        {
          "name": "stdout",
          "output_type": "stream",
          "text": [
            "/content\n",
            "sample_data  drive\n",
            "/content/drive/MyDrive/Purdue/SEM1/CS 529/Assignments/A4\n",
            "/content/drive/MyDrive/Purdue/SEM1/CS 529/Assignments/A4\n"
          ]
        }
      ],
      "source": [
        "!pwd\n",
        "!ls -r\n",
        "%cd '/content/drive/MyDrive/Purdue/SEM1/CS 529/Assignments/A4'\n",
        "!pwd"
      ]
    },
    {
      "cell_type": "code",
      "execution_count": null,
      "metadata": {
        "id": "nTxj0UJLhVnK"
      },
      "outputs": [],
      "source": [
        "# Imports\n",
        "\n",
        "# Reload the trained model from HW#3 Problem 4\n",
        "import network.network as Network\n",
        "import network.network as mnist_loader\n",
        "import pickle\n",
        "\n",
        "# Load the pre-trained model.\n",
        "with open('./network/trained_network.pkl', 'rb') as f:\n",
        "    u = pickle._Unpickler(f)\n",
        "    u.encoding = 'latin1'\n",
        "    target_net = u.load()"
      ]
    },
    {
      "cell_type": "code",
      "execution_count": null,
      "metadata": {
        "colab": {
          "base_uri": "https://localhost:8080/"
        },
        "id": "79HocEHX0y2K",
        "outputId": "b57e929f-1518-4d97-a308-1dd364d2cab1"
      },
      "outputs": [
        {
          "data": {
            "text/plain": [
              "['Network',\n",
              " '__builtins__',\n",
              " '__cached__',\n",
              " '__doc__',\n",
              " '__file__',\n",
              " '__loader__',\n",
              " '__name__',\n",
              " '__package__',\n",
              " '__spec__',\n",
              " 'np',\n",
              " 'random',\n",
              " 'sigmoid',\n",
              " 'sigmoid_prime']"
            ]
          },
          "execution_count": 28,
          "metadata": {},
          "output_type": "execute_result"
        }
      ],
      "source": [
        "dir(mnist_loader)"
      ]
    },
    {
      "cell_type": "code",
      "execution_count": null,
      "metadata": {
        "id": "5Xw5XKkBhbG9"
      },
      "outputs": [],
      "source": [
        "!cd ./network/"
      ]
    },
    {
      "cell_type": "code",
      "execution_count": null,
      "metadata": {
        "colab": {
          "base_uri": "https://localhost:8080/"
        },
        "id": "LEHEkMojiRIK",
        "outputId": "17490c74-785a-4287-980d-b4c8c5917199"
      },
      "outputs": [
        {
          "name": "stdout",
          "output_type": "stream",
          "text": [
            "/content/drive/MyDrive/Purdue/SEM1/CS 529/Assignments/A4\n"
          ]
        }
      ],
      "source": [
        "!pwd"
      ]
    },
    {
      "cell_type": "code",
      "execution_count": null,
      "metadata": {
        "id": "rfV-3eMSXHzm"
      },
      "outputs": [],
      "source": [
        "def predict_using_target_net(x, verbose=False):\n",
        "    x = x.squeeze().reshape(-1, 1)\n",
        "    outputs = target_net.feedforward(x)\n",
        "    predictions = np.argmax(outputs)\n",
        "    if verbose:\n",
        "        print('Network output: \\n' + str(np.round(outputs, 2)) + '\\n')\n",
        "        print('Network prediction: ' + str(predictions) + '\\n')\n",
        "        print('Actual image: ')\n",
        "    \n",
        "        # Draw the image\n",
        "        plt.imshow(x.reshape((28,28)), cmap='Greys')\n",
        "    return predictions"
      ]
    },
    {
      "cell_type": "code",
      "execution_count": null,
      "metadata": {
        "colab": {
          "base_uri": "https://localhost:8080/",
          "height": 543
        },
        "id": "bQdGyXkzFw3D",
        "outputId": "b83927a9-a029-4662-a672-8cee251930be"
      },
      "outputs": [
        {
          "name": "stdout",
          "output_type": "stream",
          "text": [
            "Network output: \n",
            "[[0.]\n",
            " [0.]\n",
            " [0.]\n",
            " [0.]\n",
            " [0.]\n",
            " [0.]\n",
            " [0.]\n",
            " [1.]\n",
            " [0.]\n",
            " [0.]]\n",
            "\n",
            "Network prediction: 7\n",
            "\n",
            "Actual image: \n",
            "7\n"
          ]
        },
        {
          "data": {
            "image/png": "[encoded data removed]",
            "text/plain": [
              "<Figure size 432x288 with 1 Axes>"
            ]
          },
          "metadata": {
            "needs_background": "light"
          },
          "output_type": "display_data"
        }
      ],
      "source": [
        "print(predict_using_target_net(final_train_x[78], True))"
      ]
    },
    {
      "cell_type": "code",
      "execution_count": null,
      "metadata": {
        "colab": {
          "base_uri": "https://localhost:8080/"
        },
        "id": "1ad6cZDQXHzm",
        "outputId": "1db99376-30c3-46cb-8cef-0ce49d511422"
      },
      "outputs": [
        {
          "name": "stdout",
          "output_type": "stream",
          "text": [
            "For carlinil, Misclassification Ratio = 0.03\n",
            "For elastic_net, Misclassification Ratio = 0.17\n",
            "For saliency, Misclassification Ratio = 0.14\n"
          ]
        }
      ],
      "source": [
        "# Evaluate whether adversarial examples generated with the substitute model will transfer to the target model\n",
        "for attack_method in ['carlinil', 'elastic_net', 'saliency']:\n",
        "    model_preds=[]\n",
        "    if attack_method == 'carlinil': \n",
        "      for img in carlinil_adv_examples:\n",
        "        model_preds.append(predict_using_target_net(img))\n",
        "    elif attack_method == 'elastic_net': \n",
        "      for img in elastic_net_adv_examples:\n",
        "        model_preds.append(predict_using_target_net(img))\n",
        "    elif attack_method == 'saliency':\n",
        "      for img in saliency_adv_examples:\n",
        "        model_preds.append(predict_using_target_net(img))\n",
        "    predictions = model_preds\n",
        "    predictions = np.asarray(predictions)\n",
        "    mr = accuracy_score(predictions, np.argmax(target_y,axis=1))\n",
        "    print('For {}, Misclassification Ratio = {}'.format(attack_method, mr))"
      ]
    },
    {
      "cell_type": "markdown",
      "metadata": {
        "id": "i2VXTYeBMcHE"
      },
      "source": [
        "Here Mr follows the same definations as above : % of adv examples classedfied as the target y labels"
      ]
    },
    {
      "cell_type": "markdown",
      "metadata": {
        "id": "g7fBXUf6XHzm"
      },
      "source": [
        "## Part 4"
      ]
    },
    {
      "cell_type": "markdown",
      "metadata": {
        "id": "EhW5wqoSXHzn"
      },
      "source": [
        "### You need to complete the following."
      ]
    },
    {
      "cell_type": "code",
      "execution_count": null,
      "metadata": {
        "id": "gJL-87p9XHzn"
      },
      "outputs": [],
      "source": [
        "# Imports\n",
        "from sklearn.model_selection import GridSearchCV\n",
        "from sklearn.neural_network import MLPClassifier\n",
        "from sklearn.linear_model import LogisticRegression\n",
        "from sklearn.neighbors import KNeighborsClassifier\n",
        "from sklearn.naive_bayes import GaussianNB\n",
        "from sklearn.ensemble import VotingClassifier\n",
        "from sklearn.svm import SVC"
      ]
    },
    {
      "cell_type": "code",
      "execution_count": null,
      "metadata": {
        "id": "1vRTf5-YXHzn"
      },
      "outputs": [],
      "source": [
        "# Re-load the MNIST dataset\n",
        "(x_train, y_train), (x_test, y_test) = mnist.load_data()\n",
        "\n",
        "# Normalization\n",
        "x_train = keras.utils.normalize(x_train, axis=1)\n",
        "x_test = keras.utils.normalize(x_test, axis=1)\n",
        "\n",
        "nb_trains = x_train.shape[0]\n",
        "nb_tests = x_test.shape[0]"
      ]
    },
    {
      "cell_type": "code",
      "execution_count": null,
      "metadata": {
        "colab": {
          "base_uri": "https://localhost:8080/"
        },
        "id": "Yr1bQdmHVJ_F",
        "outputId": "a984f105-1b5d-4080-a759-72f8ce376d1d"
      },
      "outputs": [
        {
          "name": "stdout",
          "output_type": "stream",
          "text": [
            "(60000, 28, 28)\n",
            "(60000,)\n",
            "0\n"
          ]
        }
      ],
      "source": [
        "print(x_train.shape)\n",
        "print(y_train.shape)\n",
        "print(y_train[1])"
      ]
    },
    {
      "cell_type": "code",
      "execution_count": null,
      "metadata": {
        "id": "B4isXeTeV8PD"
      },
      "outputs": [],
      "source": [
        "x_train = x_train.reshape((x_train.shape[0],28*28))\n",
        "x_test = x_test.reshape((x_test.shape[0],28*28))"
      ]
    },
    {
      "cell_type": "code",
      "execution_count": null,
      "metadata": {
        "colab": {
          "base_uri": "https://localhost:8080/"
        },
        "id": "dM7iQVMuWU98",
        "outputId": "594bc312-2b89-4aad-a998-615e12b4a3af"
      },
      "outputs": [
        {
          "data": {
            "text/plain": [
              "(60000, 784)"
            ]
          },
          "execution_count": 38,
          "metadata": {},
          "output_type": "execute_result"
        }
      ],
      "source": [
        "x_train.shape"
      ]
    },
    {
      "cell_type": "code",
      "execution_count": null,
      "metadata": {
        "id": "fAx7_d3bVHSG"
      },
      "outputs": [],
      "source": [
        "# x_train = x_train.reshape(x_train.shape[0], 1, 28, 28)\n",
        "# x_test = x_test.reshape(x_test.shape[0], 1, 28, 28)"
      ]
    },
    {
      "cell_type": "code",
      "execution_count": null,
      "metadata": {
        "colab": {
          "base_uri": "https://localhost:8080/"
        },
        "id": "fkCHimBmP5eY",
        "outputId": "f3322060-d83b-4beb-b3b6-a0b4a5c482d1"
      },
      "outputs": [
        {
          "name": "stdout",
          "output_type": "stream",
          "text": [
            "(60000, 784)\n",
            "(60000,)\n",
            "0\n",
            "784\n"
          ]
        }
      ],
      "source": [
        "print(x_train.shape)\n",
        "print(y_train.shape)\n",
        "print(y_train[1])\n",
        "print(len(x_train[0]))"
      ]
    },
    {
      "cell_type": "code",
      "execution_count": null,
      "metadata": {
        "colab": {
          "base_uri": "https://localhost:8080/"
        },
        "id": "AbYNukgdXHzn",
        "outputId": "6f5db785-111f-4152-b001-ad69bb8e6d6b"
      },
      "outputs": [
        {
          "name": "stdout",
          "output_type": "stream",
          "text": [
            "{'hidden_layer_sizes': (100, 100)}\n"
          ]
        }
      ],
      "source": [
        "# ANN model\n",
        "ann_parameters = {\n",
        "'hidden_layer_sizes': [(100), (100,100)]\n",
        "}\n",
        "\n",
        "ann_clf = GridSearchCV(MLPClassifier(),ann_parameters,scoring='accuracy')\n",
        "ann_clf.fit(x_train,y_train)\n",
        "print(ann_clf.best_params_)\n"
      ]
    },
    {
      "cell_type": "code",
      "execution_count": null,
      "metadata": {
        "colab": {
          "base_uri": "https://localhost:8080/"
        },
        "id": "UDNVnyp4Sv9L",
        "outputId": "78dc9907-089e-41f0-85ad-ee7ae76363fa"
      },
      "outputs": [
        {
          "name": "stdout",
          "output_type": "stream",
          "text": [
            "0.9715333333333334\n"
          ]
        }
      ],
      "source": [
        "print(ann_clf.best_score_)"
      ]
    },
    {
      "cell_type": "code",
      "execution_count": null,
      "metadata": {
        "colab": {
          "base_uri": "https://localhost:8080/"
        },
        "id": "7k7iw4kyXHzn",
        "outputId": "d1727e7f-89f7-407a-e1a5-f1033a96b5a7"
      },
      "outputs": [
        {
          "name": "stdout",
          "output_type": "stream",
          "text": [
            "{'C': 10, 'kernel': 'rbf'}\n"
          ]
        }
      ],
      "source": [
        "# SVM model\n",
        "svm_parameters = {\n",
        "    'kernel': ['rbf'],\n",
        "    'C': [1, 10]\n",
        "}\n",
        "\n",
        "svm_clf = GridSearchCV(SVC(),svm_parameters)\n",
        "svm_clf.fit(x_train,y_train)\n",
        "print(svm_clf.best_params_)"
      ]
    },
    {
      "cell_type": "code",
      "execution_count": null,
      "metadata": {
        "colab": {
          "base_uri": "https://localhost:8080/"
        },
        "id": "hoSNd_wLSyTg",
        "outputId": "323e23e1-d8ea-4bea-f603-be4a2d35ec75"
      },
      "outputs": [
        {
          "name": "stdout",
          "output_type": "stream",
          "text": [
            "0.9795666666666667\n"
          ]
        }
      ],
      "source": [
        "print(svm_clf.best_score_)"
      ]
    },
    {
      "cell_type": "code",
      "execution_count": null,
      "metadata": {
        "colab": {
          "base_uri": "https://localhost:8080/"
        },
        "id": "cYQFGe4gXHzn",
        "outputId": "902605fd-68fa-4414-e009-83fb1dd7662e"
      },
      "outputs": [
        {
          "name": "stderr",
          "output_type": "stream",
          "text": [
            "/usr/local/lib/python3.8/dist-packages/sklearn/linear_model/_logistic.py:814: ConvergenceWarning: lbfgs failed to converge (status=1):\n",
            "STOP: TOTAL NO. of ITERATIONS REACHED LIMIT.\n",
            "\n",
            "Increase the number of iterations (max_iter) or scale the data as shown in:\n",
            "    https://scikit-learn.org/stable/modules/preprocessing.html\n",
            "Please also refer to the documentation for alternative solver options:\n",
            "    https://scikit-learn.org/stable/modules/linear_model.html#logistic-regression\n",
            "  n_iter_i = _check_optimize_result(\n",
            "/usr/local/lib/python3.8/dist-packages/sklearn/linear_model/_logistic.py:814: ConvergenceWarning: lbfgs failed to converge (status=1):\n",
            "STOP: TOTAL NO. of ITERATIONS REACHED LIMIT.\n",
            "\n",
            "Increase the number of iterations (max_iter) or scale the data as shown in:\n",
            "    https://scikit-learn.org/stable/modules/preprocessing.html\n",
            "Please also refer to the documentation for alternative solver options:\n",
            "    https://scikit-learn.org/stable/modules/linear_model.html#logistic-regression\n",
            "  n_iter_i = _check_optimize_result(\n",
            "/usr/local/lib/python3.8/dist-packages/sklearn/linear_model/_logistic.py:814: ConvergenceWarning: lbfgs failed to converge (status=1):\n",
            "STOP: TOTAL NO. of ITERATIONS REACHED LIMIT.\n",
            "\n",
            "Increase the number of iterations (max_iter) or scale the data as shown in:\n",
            "    https://scikit-learn.org/stable/modules/preprocessing.html\n",
            "Please also refer to the documentation for alternative solver options:\n",
            "    https://scikit-learn.org/stable/modules/linear_model.html#logistic-regression\n",
            "  n_iter_i = _check_optimize_result(\n",
            "/usr/local/lib/python3.8/dist-packages/sklearn/linear_model/_logistic.py:814: ConvergenceWarning: lbfgs failed to converge (status=1):\n",
            "STOP: TOTAL NO. of ITERATIONS REACHED LIMIT.\n",
            "\n",
            "Increase the number of iterations (max_iter) or scale the data as shown in:\n",
            "    https://scikit-learn.org/stable/modules/preprocessing.html\n",
            "Please also refer to the documentation for alternative solver options:\n",
            "    https://scikit-learn.org/stable/modules/linear_model.html#logistic-regression\n",
            "  n_iter_i = _check_optimize_result(\n",
            "/usr/local/lib/python3.8/dist-packages/sklearn/linear_model/_logistic.py:814: ConvergenceWarning: lbfgs failed to converge (status=1):\n",
            "STOP: TOTAL NO. of ITERATIONS REACHED LIMIT.\n",
            "\n",
            "Increase the number of iterations (max_iter) or scale the data as shown in:\n",
            "    https://scikit-learn.org/stable/modules/preprocessing.html\n",
            "Please also refer to the documentation for alternative solver options:\n",
            "    https://scikit-learn.org/stable/modules/linear_model.html#logistic-regression\n",
            "  n_iter_i = _check_optimize_result(\n",
            "/usr/local/lib/python3.8/dist-packages/sklearn/linear_model/_logistic.py:814: ConvergenceWarning: lbfgs failed to converge (status=1):\n",
            "STOP: TOTAL NO. of ITERATIONS REACHED LIMIT.\n",
            "\n",
            "Increase the number of iterations (max_iter) or scale the data as shown in:\n",
            "    https://scikit-learn.org/stable/modules/preprocessing.html\n",
            "Please also refer to the documentation for alternative solver options:\n",
            "    https://scikit-learn.org/stable/modules/linear_model.html#logistic-regression\n",
            "  n_iter_i = _check_optimize_result(\n",
            "/usr/local/lib/python3.8/dist-packages/sklearn/linear_model/_logistic.py:814: ConvergenceWarning: lbfgs failed to converge (status=1):\n",
            "STOP: TOTAL NO. of ITERATIONS REACHED LIMIT.\n",
            "\n",
            "Increase the number of iterations (max_iter) or scale the data as shown in:\n",
            "    https://scikit-learn.org/stable/modules/preprocessing.html\n",
            "Please also refer to the documentation for alternative solver options:\n",
            "    https://scikit-learn.org/stable/modules/linear_model.html#logistic-regression\n",
            "  n_iter_i = _check_optimize_result(\n",
            "/usr/local/lib/python3.8/dist-packages/sklearn/linear_model/_logistic.py:814: ConvergenceWarning: lbfgs failed to converge (status=1):\n",
            "STOP: TOTAL NO. of ITERATIONS REACHED LIMIT.\n",
            "\n",
            "Increase the number of iterations (max_iter) or scale the data as shown in:\n",
            "    https://scikit-learn.org/stable/modules/preprocessing.html\n",
            "Please also refer to the documentation for alternative solver options:\n",
            "    https://scikit-learn.org/stable/modules/linear_model.html#logistic-regression\n",
            "  n_iter_i = _check_optimize_result(\n",
            "/usr/local/lib/python3.8/dist-packages/sklearn/linear_model/_logistic.py:814: ConvergenceWarning: lbfgs failed to converge (status=1):\n",
            "STOP: TOTAL NO. of ITERATIONS REACHED LIMIT.\n",
            "\n",
            "Increase the number of iterations (max_iter) or scale the data as shown in:\n",
            "    https://scikit-learn.org/stable/modules/preprocessing.html\n",
            "Please also refer to the documentation for alternative solver options:\n",
            "    https://scikit-learn.org/stable/modules/linear_model.html#logistic-regression\n",
            "  n_iter_i = _check_optimize_result(\n",
            "/usr/local/lib/python3.8/dist-packages/sklearn/linear_model/_logistic.py:814: ConvergenceWarning: lbfgs failed to converge (status=1):\n",
            "STOP: TOTAL NO. of ITERATIONS REACHED LIMIT.\n",
            "\n",
            "Increase the number of iterations (max_iter) or scale the data as shown in:\n",
            "    https://scikit-learn.org/stable/modules/preprocessing.html\n",
            "Please also refer to the documentation for alternative solver options:\n",
            "    https://scikit-learn.org/stable/modules/linear_model.html#logistic-regression\n",
            "  n_iter_i = _check_optimize_result(\n",
            "/usr/local/lib/python3.8/dist-packages/sklearn/model_selection/_validation.py:372: FitFailedWarning: \n",
            "10 fits failed out of a total of 20.\n",
            "The score on these train-test partitions for these parameters will be set to nan.\n",
            "If these failures are not expected, you can try to debug them by setting error_score='raise'.\n",
            "\n",
            "Below are more details about the failures:\n",
            "--------------------------------------------------------------------------------\n",
            "10 fits failed with the following error:\n",
            "Traceback (most recent call last):\n",
            "  File \"/usr/local/lib/python3.8/dist-packages/sklearn/model_selection/_validation.py\", line 680, in _fit_and_score\n",
            "    estimator.fit(X_train, y_train, **fit_params)\n",
            "  File \"/usr/local/lib/python3.8/dist-packages/sklearn/linear_model/_logistic.py\", line 1461, in fit\n",
            "    solver = _check_solver(self.solver, self.penalty, self.dual)\n",
            "  File \"/usr/local/lib/python3.8/dist-packages/sklearn/linear_model/_logistic.py\", line 447, in _check_solver\n",
            "    raise ValueError(\n",
            "ValueError: Solver lbfgs supports only 'l2' or 'none' penalties, got l1 penalty.\n",
            "\n",
            "  warnings.warn(some_fits_failed_message, FitFailedWarning)\n",
            "/usr/local/lib/python3.8/dist-packages/sklearn/model_selection/_search.py:969: UserWarning: One or more of the test scores are non-finite: [    nan 0.91915     nan 0.91685]\n",
            "  warnings.warn(\n"
          ]
        },
        {
          "name": "stdout",
          "output_type": "stream",
          "text": [
            "{'C': 1, 'multi_class': 'auto', 'penalty': 'l2'}\n"
          ]
        },
        {
          "name": "stderr",
          "output_type": "stream",
          "text": [
            "/usr/local/lib/python3.8/dist-packages/sklearn/linear_model/_logistic.py:814: ConvergenceWarning: lbfgs failed to converge (status=1):\n",
            "STOP: TOTAL NO. of ITERATIONS REACHED LIMIT.\n",
            "\n",
            "Increase the number of iterations (max_iter) or scale the data as shown in:\n",
            "    https://scikit-learn.org/stable/modules/preprocessing.html\n",
            "Please also refer to the documentation for alternative solver options:\n",
            "    https://scikit-learn.org/stable/modules/linear_model.html#logistic-regression\n",
            "  n_iter_i = _check_optimize_result(\n"
          ]
        }
      ],
      "source": [
        "# Logistic Regression model\n",
        "lr_parameters = {\n",
        "    'multi_class': ['auto'],\n",
        "    'penalty' : ['l1', 'l2'],\n",
        "    'C': [1, 10],\n",
        "}\n",
        "\n",
        "lr_clf = GridSearchCV(LogisticRegression(),lr_parameters)\n",
        "lr_clf.fit(x_train,y_train)\n",
        "print(lr_clf.best_params_)"
      ]
    },
    {
      "cell_type": "code",
      "execution_count": null,
      "metadata": {
        "colab": {
          "base_uri": "https://localhost:8080/"
        },
        "id": "6uafTYCDS4nS",
        "outputId": "3650d74f-323b-481a-9792-1cdaa1c91d35"
      },
      "outputs": [
        {
          "name": "stdout",
          "output_type": "stream",
          "text": [
            "0.9191499999999999\n"
          ]
        }
      ],
      "source": [
        "print(lr_clf.best_score_)"
      ]
    },
    {
      "cell_type": "code",
      "execution_count": null,
      "metadata": {
        "colab": {
          "base_uri": "https://localhost:8080/"
        },
        "id": "gGXJm8LnXHzn",
        "outputId": "1ffd4b7d-cf32-4a16-b68f-dfcb0cf480fa"
      },
      "outputs": [
        {
          "name": "stdout",
          "output_type": "stream",
          "text": [
            "{'n_neighbors': 5, 'weights': 'distance'}\n"
          ]
        }
      ],
      "source": [
        "# kNN\n",
        "knn_parameters = {\n",
        "    'n_neighbors': [5],\n",
        "    'weights': ['uniform', 'distance']\n",
        "}\n",
        "knn_clf = GridSearchCV(KNeighborsClassifier(),knn_parameters)\n",
        "knn_clf.fit(x_train,y_train)\n",
        "print(knn_clf.best_params_)"
      ]
    },
    {
      "cell_type": "code",
      "execution_count": null,
      "metadata": {
        "colab": {
          "base_uri": "https://localhost:8080/"
        },
        "id": "0CFqz8P2S8Nx",
        "outputId": "f32cbb4a-5f1c-4088-a3d6-8241cdeda43f"
      },
      "outputs": [
        {
          "name": "stdout",
          "output_type": "stream",
          "text": [
            "0.9588333333333333\n"
          ]
        }
      ],
      "source": [
        "print(knn_clf.best_score_)"
      ]
    },
    {
      "cell_type": "code",
      "execution_count": null,
      "metadata": {
        "colab": {
          "base_uri": "https://localhost:8080/"
        },
        "id": "k02gTLHtXHzn",
        "outputId": "b03e9bed-5ea8-46e6-ec1c-c0fb28baeb0f"
      },
      "outputs": [
        {
          "name": "stdout",
          "output_type": "stream",
          "text": [
            "{'var_smoothing': 0.1}\n"
          ]
        }
      ],
      "source": [
        "# Naive Bayes\n",
        "naive_bayes_parameters = {\n",
        "    'var_smoothing': [1e-3, 1e-2, 1e-1]\n",
        "}\n",
        "naive_bayes_clf = GridSearchCV(estimator=GaussianNB(), param_grid=naive_bayes_parameters)\n",
        "naive_bayes_clf.fit(x_train,y_train)\n",
        "print(naive_bayes_clf.best_params_)"
      ]
    },
    {
      "cell_type": "code",
      "execution_count": null,
      "metadata": {
        "id": "Ysdetn7BXHzn"
      },
      "outputs": [],
      "source": [
        "# Voting classifiers\n",
        "voting_clf = VotingClassifier(estimators=[\n",
        "                                ('naive_bayes', GaussianNB()),\n",
        "                                ('ann', MLPClassifier()),\n",
        "                                ('lr', LogisticRegression()),\n",
        "                               ], voting='soft')\n",
        "\n",
        "params = {\n",
        "          'naive_bayes__var_smoothing': [1e-3, 1e-2, 1e-1],\n",
        "          'lr__C': [1, 10],\n",
        "          'ann__hidden_layer_sizes': [(100), (100,100)]\n",
        "          }\n",
        "\n",
        "voting_clf = GridSearchCV(voting_clf,params)\n",
        "voting_clf.fit(x_train,y_train)\n",
        "print(voting_clf.best_params_)\n",
        "## used best_param_ instead of best_params_ --- So corrected it in next line"
      ]
    },
    {
      "cell_type": "code",
      "execution_count": null,
      "metadata": {
        "colab": {
          "base_uri": "https://localhost:8080/"
        },
        "id": "rsJAkRTbL3wn",
        "outputId": "2d156d6c-714a-4c70-e021-49e38065738a"
      },
      "outputs": [
        {
          "name": "stdout",
          "output_type": "stream",
          "text": [
            "{'ann__hidden_layer_sizes': (100, 100), 'lr__C': 10, 'naive_bayes__var_smoothing': 0.001}\n",
            "0.9434833333333333\n"
          ]
        }
      ],
      "source": [
        "print(voting_clf.best_params_)\n",
        "print(voting_clf.best_score_)"
      ]
    },
    {
      "cell_type": "code",
      "execution_count": null,
      "metadata": {
        "colab": {
          "base_uri": "https://localhost:8080/"
        },
        "id": "cc3v-S4TXHzn",
        "outputId": "05e56634-824a-439d-990a-2e057bbae0b4"
      },
      "outputs": [
        {
          "name": "stdout",
          "output_type": "stream",
          "text": [
            "Methods \t Test Acc \t Carlinil MR \t ElasticNet MR \t Saliency MR\n",
            "ANN \t 0.9753 \t 0.04 \t 0.15 \t 0.14\n",
            "SVM \t 0.9817 \t 0.04 \t 0.16 \t 0.12\n",
            "Logistic Regression \t 0.9243 \t 0.07 \t 0.22 \t 0.16\n",
            "kNN \t 0.9622 \t 0.0 \t 0.04 \t 0.03\n",
            "Naive Bayes \t 0.8073 \t 0.1 \t 0.25 \t 0.32\n",
            "Voting classifiers \t 0.9461 \t 0.06 \t 0.15 \t 0.08\n"
          ]
        }
      ],
      "source": [
        "classifier_names = ['ANN', 'SVM', 'Logistic Regression', 'kNN', 'Naive Bayes', 'Voting classifiers']\n",
        "classifiers = [ann_clf, svm_clf, lr_clf, knn_clf, naive_bayes_clf, voting_clf]\n",
        "print('Methods \\t Test Acc \\t Carlinil MR \\t ElasticNet MR \\t Saliency MR')\n",
        "for i in range(len(classifiers)):\n",
        "\n",
        "    preds=classifiers[i].predict(x_test)\n",
        "    preds_carlini=classifiers[i].predict(carlinil_adv_examples.reshape(100,28*28))\n",
        "    preds_elastic_net=classifiers[i].predict(elastic_net_adv_examples.reshape(100,28*28))\n",
        "    preds_saliency=classifiers[i].predict(saliency_adv_examples.reshape(100,28*28))\n",
        "\n",
        "    test_acc = accuracy_score(preds, y_test)\n",
        "    carlinil_acc = accuracy_score(preds_carlini, np.argmax(target_y,axis=1))\n",
        "    elasticnet_acc = accuracy_score(preds_elastic_net, np.argmax(target_y,axis=1))\n",
        "    saliency_acc = accuracy_score(preds_saliency, np.argmax(target_y,axis=1))\n",
        "    print('{} \\t {} \\t {} \\t {} \\t {}'.format(classifier_names[i], str(test_acc), str(carlinil_acc), str(elasticnet_acc), str(saliency_acc)))"
      ]
    },
    {
      "cell_type": "markdown",
      "metadata": {
        "id": "fcDuG49wUElV"
      },
      "source": [
        "The MR for substitute model was \n",
        "For CarliniL2Method attack, MR = 0.22\n",
        "For ElasticNet attack, MR = 0.92\n",
        "For SaliencyMapMethod attack, MR = 1.0\n",
        "\n",
        "However here the Values are:\n",
        "![Screen Shot 2022-12-04 at 5.52.16 PM.png](data:image/png;base64,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)\n",
        "Methods \t Test Acc \t Carlinil MR \t ElasticNet MR \t Saliency MR\n",
        "ANN \t       0.9753 \t    0.04 \t         0.15 \t       0.14\n",
        "SVM \t       0.9817 \t    0.04 \t         0.16 \t       0.12\n",
        "LR \t         0.9243 \t    0.07 \t         0.22 \t       0.16\n",
        "kNN \t       0.9622 \t    0.0 \t         0.04 \t       0.03\n",
        "NB           0.8073 \t    0.1 \t         0.25 \t       0.32\n",
        "Voting Cls \t 0.9461 \t    0.06 \t         0.15 \t       0.08\n",
        "\n",
        "\n",
        "We can see that specially for Elastic MR attack, it has nt trasnferred well from subtitute to these 6 models. we see a drop in MR from 0.92 to around ~0.20 for majority of them\n",
        "\n",
        "same trend in noticed in all of them. Hence we can see that its not as trasnfarable and we see a drop in MR accuracy "
      ]
    },
    {
      "cell_type": "code",
      "execution_count": null,
      "metadata": {
        "colab": {
          "base_uri": "https://localhost:8080/"
        },
        "id": "V6TKYVz0Mmdq",
        "outputId": "c78b1275-aa3a-4149-bd6a-78092b4aa05c"
      },
      "outputs": [
        {
          "data": {
            "text/plain": [
              "(100, 1, 28, 28)"
            ]
          },
          "execution_count": 55,
          "metadata": {},
          "output_type": "execute_result"
        }
      ],
      "source": [
        "carlinil_adv_examples.shape"
      ]
    },
    {
      "cell_type": "code",
      "execution_count": null,
      "metadata": {
        "colab": {
          "base_uri": "https://localhost:8080/"
        },
        "id": "5bI133D1L6Rr",
        "outputId": "45919760-b842-4b3b-c5b3-10991b5dbe22"
      },
      "outputs": [
        {
          "data": {
            "text/plain": [
              "0"
            ]
          },
          "execution_count": 58,
          "metadata": {},
          "output_type": "execute_result"
        }
      ],
      "source": [
        "preds_carlini[0]"
      ]
    },
    {
      "cell_type": "code",
      "execution_count": null,
      "metadata": {
        "colab": {
          "base_uri": "https://localhost:8080/"
        },
        "id": "kxpXAGQINA15",
        "outputId": "0b90dc28-f5ec-464c-e722-d081f16b2319"
      },
      "outputs": [
        {
          "name": "stdout",
          "output_type": "stream",
          "text": [
            "[NbConvertApp] Converting notebook /content/drive/MyDrive/Purdue/SEM1/CS 529/Assignments/A4/Problem2_work_copy.ipynb to html\n",
            "[NbConvertApp] Writing 488354 bytes to /content/drive/MyDrive/Purdue/SEM1/CS 529/Assignments/A4/Problem2_work_copy.html\n"
          ]
        }
      ],
      "source": [
        "def preprocess(dir):\n",
        "    # To deal with the error when there is [] in the path\n",
        "    dir.replace('[','[[]')\n",
        "    dir.replace(']','[]]')\n",
        "    return dir\n",
        "\n",
        "########################        YOUR CODE        ##########################\n",
        "your_ipynb_file_dir = '/content/drive/MyDrive/Purdue/SEM1/CS 529/Assignments/A4/Problem2_work_copy.ipynb' # Example: '/content/drive/MyDrive/ECE570/Assignment_02_Exercise.ipynb'\n",
        "########################      END YOUR CODE      ##########################\n",
        "\n",
        "!jupyter nbconvert --to html '{preprocess(your_ipynb_file_dir)}'"
      ]
    },
    {
      "cell_type": "code",
      "execution_count": null,
      "metadata": {
        "id": "n7zSwSVBRESR"
      },
      "outputs": [],
      "source": []
    }
  ],
  "metadata": {
    "accelerator": "GPU",
    "colab": {
      "provenance": []
    },
    "gpuClass": "standard",
    "kernelspec": {
      "display_name": "Python 3 (ipykernel)",
      "language": "python",
      "name": "python3"
    },
    "language_info": {
      "codemirror_mode": {
        "name": "ipython",
        "version": 3
      },
      "file_extension": ".py",
      "mimetype": "text/x-python",
      "name": "python",
      "nbconvert_exporter": "python",
      "pygments_lexer": "ipython3",
      "version": "3.10.6"
    },
    "widgets": {
      "application/vnd.jupyter.widget-state+json": {
        "0393dbb5d5fa4f10b31d9033a4aeee3a": {
          "model_module": "@jupyter-widgets/controls",
          "model_module_version": "1.5.0",
          "model_name": "ProgressStyleModel",
          "state": {
            "_model_module": "@jupyter-widgets/controls",
            "_model_module_version": "1.5.0",
            "_model_name": "ProgressStyleModel",
            "_view_count": null,
            "_view_module": "@jupyter-widgets/base",
            "_view_module_version": "1.2.0",
            "_view_name": "StyleView",
            "bar_color": null,
            "description_width": ""
          }
        },
        "0638f449ff304960999c32599b35c988": {
          "model_module": "@jupyter-widgets/controls",
          "model_module_version": "1.5.0",
          "model_name": "HTMLModel",
          "state": {
            "_dom_classes": [],
            "_model_module": "@jupyter-widgets/controls",
            "_model_module_version": "1.5.0",
            "_model_name": "HTMLModel",
            "_view_count": null,
            "_view_module": "@jupyter-widgets/controls",
            "_view_module_version": "1.5.0",
            "_view_name": "HTMLView",
            "description": "",
            "description_tooltip": null,
            "layout": "IPY_MODEL_80628ee96f7944689741c4de7d6b9b81",
            "placeholder": "​",
            "style": "IPY_MODEL_b69176bc63b04d77b1fbf8e1880db64e",
            "value": "EAD: 100%"
          }
        },
        "147ed42382104f698245603b7376e06c": {
          "model_module": "@jupyter-widgets/base",
          "model_module_version": "1.2.0",
          "model_name": "LayoutModel",
          "state": {
            "_model_module": "@jupyter-widgets/base",
            "_model_module_version": "1.2.0",
            "_model_name": "LayoutModel",
            "_view_count": null,
            "_view_module": "@jupyter-widgets/base",
            "_view_module_version": "1.2.0",
            "_view_name": "LayoutView",
            "align_content": null,
            "align_items": null,
            "align_self": null,
            "border": null,
            "bottom": null,
            "display": null,
            "flex": null,
            "flex_flow": null,
            "grid_area": null,
            "grid_auto_columns": null,
            "grid_auto_flow": null,
            "grid_auto_rows": null,
            "grid_column": null,
            "grid_gap": null,
            "grid_row": null,
            "grid_template_areas": null,
            "grid_template_columns": null,
            "grid_template_rows": null,
            "height": null,
            "justify_content": null,
            "justify_items": null,
            "left": null,
            "margin": null,
            "max_height": null,
            "max_width": null,
            "min_height": null,
            "min_width": null,
            "object_fit": null,
            "object_position": null,
            "order": null,
            "overflow": null,
            "overflow_x": null,
            "overflow_y": null,
            "padding": null,
            "right": null,
            "top": null,
            "visibility": null,
            "width": null
          }
        },
        "14907b34787b4f0abe5e3d9c083c6d57": {
          "model_module": "@jupyter-widgets/controls",
          "model_module_version": "1.5.0",
          "model_name": "HTMLModel",
          "state": {
            "_dom_classes": [],
            "_model_module": "@jupyter-widgets/controls",
            "_model_module_version": "1.5.0",
            "_model_name": "HTMLModel",
            "_view_count": null,
            "_view_module": "@jupyter-widgets/controls",
            "_view_module_version": "1.5.0",
            "_view_name": "HTMLView",
            "description": "",
            "description_tooltip": null,
            "layout": "IPY_MODEL_afc22ea02ea04a6dabf371484f8fc13a",
            "placeholder": "​",
            "style": "IPY_MODEL_3a307b66254c46028aaaff0b0852d559",
            "value": " 100/100 [02:17&lt;00:00,  1.26s/it]"
          }
        },
        "19f6145240be4e078d1e4d609aed91df": {
          "model_module": "@jupyter-widgets/base",
          "model_module_version": "1.2.0",
          "model_name": "LayoutModel",
          "state": {
            "_model_module": "@jupyter-widgets/base",
            "_model_module_version": "1.2.0",
            "_model_name": "LayoutModel",
            "_view_count": null,
            "_view_module": "@jupyter-widgets/base",
            "_view_module_version": "1.2.0",
            "_view_name": "LayoutView",
            "align_content": null,
            "align_items": null,
            "align_self": null,
            "border": null,
            "bottom": null,
            "display": null,
            "flex": null,
            "flex_flow": null,
            "grid_area": null,
            "grid_auto_columns": null,
            "grid_auto_flow": null,
            "grid_auto_rows": null,
            "grid_column": null,
            "grid_gap": null,
            "grid_row": null,
            "grid_template_areas": null,
            "grid_template_columns": null,
            "grid_template_rows": null,
            "height": null,
            "justify_content": null,
            "justify_items": null,
            "left": null,
            "margin": null,
            "max_height": null,
            "max_width": null,
            "min_height": null,
            "min_width": null,
            "object_fit": null,
            "object_position": null,
            "order": null,
            "overflow": null,
            "overflow_x": null,
            "overflow_y": null,
            "padding": null,
            "right": null,
            "top": null,
            "visibility": null,
            "width": null
          }
        },
        "1b9dadfa4edb474f834b851aa38c557e": {
          "model_module": "@jupyter-widgets/controls",
          "model_module_version": "1.5.0",
          "model_name": "FloatProgressModel",
          "state": {
            "_dom_classes": [],
            "_model_module": "@jupyter-widgets/controls",
            "_model_module_version": "1.5.0",
            "_model_name": "FloatProgressModel",
            "_view_count": null,
            "_view_module": "@jupyter-widgets/controls",
            "_view_module_version": "1.5.0",
            "_view_name": "ProgressView",
            "bar_style": "success",
            "description": "",
            "description_tooltip": null,
            "layout": "IPY_MODEL_80467a5a10364ccfa30fc778f567dfa1",
            "max": 100,
            "min": 0,
            "orientation": "horizontal",
            "style": "IPY_MODEL_bf9ce0aecc2b4327945fc7f67cf9dcf3",
            "value": 100
          }
        },
        "3a307b66254c46028aaaff0b0852d559": {
          "model_module": "@jupyter-widgets/controls",
          "model_module_version": "1.5.0",
          "model_name": "DescriptionStyleModel",
          "state": {
            "_model_module": "@jupyter-widgets/controls",
            "_model_module_version": "1.5.0",
            "_model_name": "DescriptionStyleModel",
            "_view_count": null,
            "_view_module": "@jupyter-widgets/base",
            "_view_module_version": "1.2.0",
            "_view_name": "StyleView",
            "description_width": ""
          }
        },
        "40baf31d9d014d17ad000fa09814bd41": {
          "model_module": "@jupyter-widgets/controls",
          "model_module_version": "1.5.0",
          "model_name": "FloatProgressModel",
          "state": {
            "_dom_classes": [],
            "_model_module": "@jupyter-widgets/controls",
            "_model_module_version": "1.5.0",
            "_model_name": "FloatProgressModel",
            "_view_count": null,
            "_view_module": "@jupyter-widgets/controls",
            "_view_module_version": "1.5.0",
            "_view_name": "ProgressView",
            "bar_style": "success",
            "description": "",
            "description_tooltip": null,
            "layout": "IPY_MODEL_924f58acd9d24f4499243c6bd1dde278",
            "max": 100,
            "min": 0,
            "orientation": "horizontal",
            "style": "IPY_MODEL_f4f2fbf74cb349459e333cd334dc2018",
            "value": 100
          }
        },
        "5562e12c03c14e4db60ed0f4306ab7ab": {
          "model_module": "@jupyter-widgets/controls",
          "model_module_version": "1.5.0",
          "model_name": "HTMLModel",
          "state": {
            "_dom_classes": [],
            "_model_module": "@jupyter-widgets/controls",
            "_model_module_version": "1.5.0",
            "_model_name": "HTMLModel",
            "_view_count": null,
            "_view_module": "@jupyter-widgets/controls",
            "_view_module_version": "1.5.0",
            "_view_name": "HTMLView",
            "description": "",
            "description_tooltip": null,
            "layout": "IPY_MODEL_5cbcad72577243d1be87a84369bc7eea",
            "placeholder": "​",
            "style": "IPY_MODEL_9c1c1dab86464bb2a57c71379288ef00",
            "value": " 100/100 [11:36&lt;00:00,  6.95s/it]"
          }
        },
        "5b612bda9bb548ad894175e515dd5e17": {
          "model_module": "@jupyter-widgets/controls",
          "model_module_version": "1.5.0",
          "model_name": "DescriptionStyleModel",
          "state": {
            "_model_module": "@jupyter-widgets/controls",
            "_model_module_version": "1.5.0",
            "_model_name": "DescriptionStyleModel",
            "_view_count": null,
            "_view_module": "@jupyter-widgets/base",
            "_view_module_version": "1.2.0",
            "_view_name": "StyleView",
            "description_width": ""
          }
        },
        "5cbcad72577243d1be87a84369bc7eea": {
          "model_module": "@jupyter-widgets/base",
          "model_module_version": "1.2.0",
          "model_name": "LayoutModel",
          "state": {
            "_model_module": "@jupyter-widgets/base",
            "_model_module_version": "1.2.0",
            "_model_name": "LayoutModel",
            "_view_count": null,
            "_view_module": "@jupyter-widgets/base",
            "_view_module_version": "1.2.0",
            "_view_name": "LayoutView",
            "align_content": null,
            "align_items": null,
            "align_self": null,
            "border": null,
            "bottom": null,
            "display": null,
            "flex": null,
            "flex_flow": null,
            "grid_area": null,
            "grid_auto_columns": null,
            "grid_auto_flow": null,
            "grid_auto_rows": null,
            "grid_column": null,
            "grid_gap": null,
            "grid_row": null,
            "grid_template_areas": null,
            "grid_template_columns": null,
            "grid_template_rows": null,
            "height": null,
            "justify_content": null,
            "justify_items": null,
            "left": null,
            "margin": null,
            "max_height": null,
            "max_width": null,
            "min_height": null,
            "min_width": null,
            "object_fit": null,
            "object_position": null,
            "order": null,
            "overflow": null,
            "overflow_x": null,
            "overflow_y": null,
            "padding": null,
            "right": null,
            "top": null,
            "visibility": null,
            "width": null
          }
        },
        "5cdc3843f7754a34acfd436dff91d159": {
          "model_module": "@jupyter-widgets/controls",
          "model_module_version": "1.5.0",
          "model_name": "HTMLModel",
          "state": {
            "_dom_classes": [],
            "_model_module": "@jupyter-widgets/controls",
            "_model_module_version": "1.5.0",
            "_model_name": "HTMLModel",
            "_view_count": null,
            "_view_module": "@jupyter-widgets/controls",
            "_view_module_version": "1.5.0",
            "_view_name": "HTMLView",
            "description": "",
            "description_tooltip": null,
            "layout": "IPY_MODEL_a942de8a8d4e422c95508ad2b1f64ceb",
            "placeholder": "​",
            "style": "IPY_MODEL_5b612bda9bb548ad894175e515dd5e17",
            "value": " 100/100 [00:28&lt;00:00,  2.53it/s]"
          }
        },
        "63764a9f7bf24ac0a2f893207c694fa9": {
          "model_module": "@jupyter-widgets/base",
          "model_module_version": "1.2.0",
          "model_name": "LayoutModel",
          "state": {
            "_model_module": "@jupyter-widgets/base",
            "_model_module_version": "1.2.0",
            "_model_name": "LayoutModel",
            "_view_count": null,
            "_view_module": "@jupyter-widgets/base",
            "_view_module_version": "1.2.0",
            "_view_name": "LayoutView",
            "align_content": null,
            "align_items": null,
            "align_self": null,
            "border": null,
            "bottom": null,
            "display": null,
            "flex": null,
            "flex_flow": null,
            "grid_area": null,
            "grid_auto_columns": null,
            "grid_auto_flow": null,
            "grid_auto_rows": null,
            "grid_column": null,
            "grid_gap": null,
            "grid_row": null,
            "grid_template_areas": null,
            "grid_template_columns": null,
            "grid_template_rows": null,
            "height": null,
            "justify_content": null,
            "justify_items": null,
            "left": null,
            "margin": null,
            "max_height": null,
            "max_width": null,
            "min_height": null,
            "min_width": null,
            "object_fit": null,
            "object_position": null,
            "order": null,
            "overflow": null,
            "overflow_x": null,
            "overflow_y": null,
            "padding": null,
            "right": null,
            "top": null,
            "visibility": null,
            "width": null
          }
        },
        "663758f70236457e8727cfce1566ae3f": {
          "model_module": "@jupyter-widgets/controls",
          "model_module_version": "1.5.0",
          "model_name": "HTMLModel",
          "state": {
            "_dom_classes": [],
            "_model_module": "@jupyter-widgets/controls",
            "_model_module_version": "1.5.0",
            "_model_name": "HTMLModel",
            "_view_count": null,
            "_view_module": "@jupyter-widgets/controls",
            "_view_module_version": "1.5.0",
            "_view_name": "HTMLView",
            "description": "",
            "description_tooltip": null,
            "layout": "IPY_MODEL_63764a9f7bf24ac0a2f893207c694fa9",
            "placeholder": "​",
            "style": "IPY_MODEL_b32def4a06af42eba13bfca083ab64a6",
            "value": "JSMA: 100%"
          }
        },
        "6d2680fffe9e491e8101f2fafc5a9f0a": {
          "model_module": "@jupyter-widgets/controls",
          "model_module_version": "1.5.0",
          "model_name": "DescriptionStyleModel",
          "state": {
            "_model_module": "@jupyter-widgets/controls",
            "_model_module_version": "1.5.0",
            "_model_name": "DescriptionStyleModel",
            "_view_count": null,
            "_view_module": "@jupyter-widgets/base",
            "_view_module_version": "1.2.0",
            "_view_name": "StyleView",
            "description_width": ""
          }
        },
        "80467a5a10364ccfa30fc778f567dfa1": {
          "model_module": "@jupyter-widgets/base",
          "model_module_version": "1.2.0",
          "model_name": "LayoutModel",
          "state": {
            "_model_module": "@jupyter-widgets/base",
            "_model_module_version": "1.2.0",
            "_model_name": "LayoutModel",
            "_view_count": null,
            "_view_module": "@jupyter-widgets/base",
            "_view_module_version": "1.2.0",
            "_view_name": "LayoutView",
            "align_content": null,
            "align_items": null,
            "align_self": null,
            "border": null,
            "bottom": null,
            "display": null,
            "flex": null,
            "flex_flow": null,
            "grid_area": null,
            "grid_auto_columns": null,
            "grid_auto_flow": null,
            "grid_auto_rows": null,
            "grid_column": null,
            "grid_gap": null,
            "grid_row": null,
            "grid_template_areas": null,
            "grid_template_columns": null,
            "grid_template_rows": null,
            "height": null,
            "justify_content": null,
            "justify_items": null,
            "left": null,
            "margin": null,
            "max_height": null,
            "max_width": null,
            "min_height": null,
            "min_width": null,
            "object_fit": null,
            "object_position": null,
            "order": null,
            "overflow": null,
            "overflow_x": null,
            "overflow_y": null,
            "padding": null,
            "right": null,
            "top": null,
            "visibility": null,
            "width": null
          }
        },
        "80628ee96f7944689741c4de7d6b9b81": {
          "model_module": "@jupyter-widgets/base",
          "model_module_version": "1.2.0",
          "model_name": "LayoutModel",
          "state": {
            "_model_module": "@jupyter-widgets/base",
            "_model_module_version": "1.2.0",
            "_model_name": "LayoutModel",
            "_view_count": null,
            "_view_module": "@jupyter-widgets/base",
            "_view_module_version": "1.2.0",
            "_view_name": "LayoutView",
            "align_content": null,
            "align_items": null,
            "align_self": null,
            "border": null,
            "bottom": null,
            "display": null,
            "flex": null,
            "flex_flow": null,
            "grid_area": null,
            "grid_auto_columns": null,
            "grid_auto_flow": null,
            "grid_auto_rows": null,
            "grid_column": null,
            "grid_gap": null,
            "grid_row": null,
            "grid_template_areas": null,
            "grid_template_columns": null,
            "grid_template_rows": null,
            "height": null,
            "justify_content": null,
            "justify_items": null,
            "left": null,
            "margin": null,
            "max_height": null,
            "max_width": null,
            "min_height": null,
            "min_width": null,
            "object_fit": null,
            "object_position": null,
            "order": null,
            "overflow": null,
            "overflow_x": null,
            "overflow_y": null,
            "padding": null,
            "right": null,
            "top": null,
            "visibility": null,
            "width": null
          }
        },
        "924f58acd9d24f4499243c6bd1dde278": {
          "model_module": "@jupyter-widgets/base",
          "model_module_version": "1.2.0",
          "model_name": "LayoutModel",
          "state": {
            "_model_module": "@jupyter-widgets/base",
            "_model_module_version": "1.2.0",
            "_model_name": "LayoutModel",
            "_view_count": null,
            "_view_module": "@jupyter-widgets/base",
            "_view_module_version": "1.2.0",
            "_view_name": "LayoutView",
            "align_content": null,
            "align_items": null,
            "align_self": null,
            "border": null,
            "bottom": null,
            "display": null,
            "flex": null,
            "flex_flow": null,
            "grid_area": null,
            "grid_auto_columns": null,
            "grid_auto_flow": null,
            "grid_auto_rows": null,
            "grid_column": null,
            "grid_gap": null,
            "grid_row": null,
            "grid_template_areas": null,
            "grid_template_columns": null,
            "grid_template_rows": null,
            "height": null,
            "justify_content": null,
            "justify_items": null,
            "left": null,
            "margin": null,
            "max_height": null,
            "max_width": null,
            "min_height": null,
            "min_width": null,
            "object_fit": null,
            "object_position": null,
            "order": null,
            "overflow": null,
            "overflow_x": null,
            "overflow_y": null,
            "padding": null,
            "right": null,
            "top": null,
            "visibility": null,
            "width": null
          }
        },
        "9c1c1dab86464bb2a57c71379288ef00": {
          "model_module": "@jupyter-widgets/controls",
          "model_module_version": "1.5.0",
          "model_name": "DescriptionStyleModel",
          "state": {
            "_model_module": "@jupyter-widgets/controls",
            "_model_module_version": "1.5.0",
            "_model_name": "DescriptionStyleModel",
            "_view_count": null,
            "_view_module": "@jupyter-widgets/base",
            "_view_module_version": "1.2.0",
            "_view_name": "StyleView",
            "description_width": ""
          }
        },
        "a2cdc62cd8b542c6ab2c0cc6bbbbdcb5": {
          "model_module": "@jupyter-widgets/controls",
          "model_module_version": "1.5.0",
          "model_name": "HBoxModel",
          "state": {
            "_dom_classes": [],
            "_model_module": "@jupyter-widgets/controls",
            "_model_module_version": "1.5.0",
            "_model_name": "HBoxModel",
            "_view_count": null,
            "_view_module": "@jupyter-widgets/controls",
            "_view_module_version": "1.5.0",
            "_view_name": "HBoxView",
            "box_style": "",
            "children": [
              "IPY_MODEL_0638f449ff304960999c32599b35c988",
              "IPY_MODEL_f76bcbedc6a34490b5dbd907b46ecffa",
              "IPY_MODEL_5562e12c03c14e4db60ed0f4306ab7ab"
            ],
            "layout": "IPY_MODEL_e4ec27099c5a4c6bb7a9e9b7bd3b8b4b"
          }
        },
        "a4537647c4de45d5a4bc8ba40856e9f9": {
          "model_module": "@jupyter-widgets/controls",
          "model_module_version": "1.5.0",
          "model_name": "HBoxModel",
          "state": {
            "_dom_classes": [],
            "_model_module": "@jupyter-widgets/controls",
            "_model_module_version": "1.5.0",
            "_model_name": "HBoxModel",
            "_view_count": null,
            "_view_module": "@jupyter-widgets/controls",
            "_view_module_version": "1.5.0",
            "_view_name": "HBoxView",
            "box_style": "",
            "children": [
              "IPY_MODEL_663758f70236457e8727cfce1566ae3f",
              "IPY_MODEL_40baf31d9d014d17ad000fa09814bd41",
              "IPY_MODEL_5cdc3843f7754a34acfd436dff91d159"
            ],
            "layout": "IPY_MODEL_19f6145240be4e078d1e4d609aed91df"
          }
        },
        "a942de8a8d4e422c95508ad2b1f64ceb": {
          "model_module": "@jupyter-widgets/base",
          "model_module_version": "1.2.0",
          "model_name": "LayoutModel",
          "state": {
            "_model_module": "@jupyter-widgets/base",
            "_model_module_version": "1.2.0",
            "_model_name": "LayoutModel",
            "_view_count": null,
            "_view_module": "@jupyter-widgets/base",
            "_view_module_version": "1.2.0",
            "_view_name": "LayoutView",
            "align_content": null,
            "align_items": null,
            "align_self": null,
            "border": null,
            "bottom": null,
            "display": null,
            "flex": null,
            "flex_flow": null,
            "grid_area": null,
            "grid_auto_columns": null,
            "grid_auto_flow": null,
            "grid_auto_rows": null,
            "grid_column": null,
            "grid_gap": null,
            "grid_row": null,
            "grid_template_areas": null,
            "grid_template_columns": null,
            "grid_template_rows": null,
            "height": null,
            "justify_content": null,
            "justify_items": null,
            "left": null,
            "margin": null,
            "max_height": null,
            "max_width": null,
            "min_height": null,
            "min_width": null,
            "object_fit": null,
            "object_position": null,
            "order": null,
            "overflow": null,
            "overflow_x": null,
            "overflow_y": null,
            "padding": null,
            "right": null,
            "top": null,
            "visibility": null,
            "width": null
          }
        },
        "afc22ea02ea04a6dabf371484f8fc13a": {
          "model_module": "@jupyter-widgets/base",
          "model_module_version": "1.2.0",
          "model_name": "LayoutModel",
          "state": {
            "_model_module": "@jupyter-widgets/base",
            "_model_module_version": "1.2.0",
            "_model_name": "LayoutModel",
            "_view_count": null,
            "_view_module": "@jupyter-widgets/base",
            "_view_module_version": "1.2.0",
            "_view_name": "LayoutView",
            "align_content": null,
            "align_items": null,
            "align_self": null,
            "border": null,
            "bottom": null,
            "display": null,
            "flex": null,
            "flex_flow": null,
            "grid_area": null,
            "grid_auto_columns": null,
            "grid_auto_flow": null,
            "grid_auto_rows": null,
            "grid_column": null,
            "grid_gap": null,
            "grid_row": null,
            "grid_template_areas": null,
            "grid_template_columns": null,
            "grid_template_rows": null,
            "height": null,
            "justify_content": null,
            "justify_items": null,
            "left": null,
            "margin": null,
            "max_height": null,
            "max_width": null,
            "min_height": null,
            "min_width": null,
            "object_fit": null,
            "object_position": null,
            "order": null,
            "overflow": null,
            "overflow_x": null,
            "overflow_y": null,
            "padding": null,
            "right": null,
            "top": null,
            "visibility": null,
            "width": null
          }
        },
        "b32def4a06af42eba13bfca083ab64a6": {
          "model_module": "@jupyter-widgets/controls",
          "model_module_version": "1.5.0",
          "model_name": "DescriptionStyleModel",
          "state": {
            "_model_module": "@jupyter-widgets/controls",
            "_model_module_version": "1.5.0",
            "_model_name": "DescriptionStyleModel",
            "_view_count": null,
            "_view_module": "@jupyter-widgets/base",
            "_view_module_version": "1.2.0",
            "_view_name": "StyleView",
            "description_width": ""
          }
        },
        "b69176bc63b04d77b1fbf8e1880db64e": {
          "model_module": "@jupyter-widgets/controls",
          "model_module_version": "1.5.0",
          "model_name": "DescriptionStyleModel",
          "state": {
            "_model_module": "@jupyter-widgets/controls",
            "_model_module_version": "1.5.0",
            "_model_name": "DescriptionStyleModel",
            "_view_count": null,
            "_view_module": "@jupyter-widgets/base",
            "_view_module_version": "1.2.0",
            "_view_name": "StyleView",
            "description_width": ""
          }
        },
        "bf9ce0aecc2b4327945fc7f67cf9dcf3": {
          "model_module": "@jupyter-widgets/controls",
          "model_module_version": "1.5.0",
          "model_name": "ProgressStyleModel",
          "state": {
            "_model_module": "@jupyter-widgets/controls",
            "_model_module_version": "1.5.0",
            "_model_name": "ProgressStyleModel",
            "_view_count": null,
            "_view_module": "@jupyter-widgets/base",
            "_view_module_version": "1.2.0",
            "_view_name": "StyleView",
            "bar_color": null,
            "description_width": ""
          }
        },
        "dd97bf2cf26042b1a95bd98be7c4b32f": {
          "model_module": "@jupyter-widgets/base",
          "model_module_version": "1.2.0",
          "model_name": "LayoutModel",
          "state": {
            "_model_module": "@jupyter-widgets/base",
            "_model_module_version": "1.2.0",
            "_model_name": "LayoutModel",
            "_view_count": null,
            "_view_module": "@jupyter-widgets/base",
            "_view_module_version": "1.2.0",
            "_view_name": "LayoutView",
            "align_content": null,
            "align_items": null,
            "align_self": null,
            "border": null,
            "bottom": null,
            "display": null,
            "flex": null,
            "flex_flow": null,
            "grid_area": null,
            "grid_auto_columns": null,
            "grid_auto_flow": null,
            "grid_auto_rows": null,
            "grid_column": null,
            "grid_gap": null,
            "grid_row": null,
            "grid_template_areas": null,
            "grid_template_columns": null,
            "grid_template_rows": null,
            "height": null,
            "justify_content": null,
            "justify_items": null,
            "left": null,
            "margin": null,
            "max_height": null,
            "max_width": null,
            "min_height": null,
            "min_width": null,
            "object_fit": null,
            "object_position": null,
            "order": null,
            "overflow": null,
            "overflow_x": null,
            "overflow_y": null,
            "padding": null,
            "right": null,
            "top": null,
            "visibility": null,
            "width": null
          }
        },
        "deaad40f7c954c729fd4015d339cd68d": {
          "model_module": "@jupyter-widgets/base",
          "model_module_version": "1.2.0",
          "model_name": "LayoutModel",
          "state": {
            "_model_module": "@jupyter-widgets/base",
            "_model_module_version": "1.2.0",
            "_model_name": "LayoutModel",
            "_view_count": null,
            "_view_module": "@jupyter-widgets/base",
            "_view_module_version": "1.2.0",
            "_view_name": "LayoutView",
            "align_content": null,
            "align_items": null,
            "align_self": null,
            "border": null,
            "bottom": null,
            "display": null,
            "flex": null,
            "flex_flow": null,
            "grid_area": null,
            "grid_auto_columns": null,
            "grid_auto_flow": null,
            "grid_auto_rows": null,
            "grid_column": null,
            "grid_gap": null,
            "grid_row": null,
            "grid_template_areas": null,
            "grid_template_columns": null,
            "grid_template_rows": null,
            "height": null,
            "justify_content": null,
            "justify_items": null,
            "left": null,
            "margin": null,
            "max_height": null,
            "max_width": null,
            "min_height": null,
            "min_width": null,
            "object_fit": null,
            "object_position": null,
            "order": null,
            "overflow": null,
            "overflow_x": null,
            "overflow_y": null,
            "padding": null,
            "right": null,
            "top": null,
            "visibility": null,
            "width": null
          }
        },
        "e4ec27099c5a4c6bb7a9e9b7bd3b8b4b": {
          "model_module": "@jupyter-widgets/base",
          "model_module_version": "1.2.0",
          "model_name": "LayoutModel",
          "state": {
            "_model_module": "@jupyter-widgets/base",
            "_model_module_version": "1.2.0",
            "_model_name": "LayoutModel",
            "_view_count": null,
            "_view_module": "@jupyter-widgets/base",
            "_view_module_version": "1.2.0",
            "_view_name": "LayoutView",
            "align_content": null,
            "align_items": null,
            "align_self": null,
            "border": null,
            "bottom": null,
            "display": null,
            "flex": null,
            "flex_flow": null,
            "grid_area": null,
            "grid_auto_columns": null,
            "grid_auto_flow": null,
            "grid_auto_rows": null,
            "grid_column": null,
            "grid_gap": null,
            "grid_row": null,
            "grid_template_areas": null,
            "grid_template_columns": null,
            "grid_template_rows": null,
            "height": null,
            "justify_content": null,
            "justify_items": null,
            "left": null,
            "margin": null,
            "max_height": null,
            "max_width": null,
            "min_height": null,
            "min_width": null,
            "object_fit": null,
            "object_position": null,
            "order": null,
            "overflow": null,
            "overflow_x": null,
            "overflow_y": null,
            "padding": null,
            "right": null,
            "top": null,
            "visibility": null,
            "width": null
          }
        },
        "e4f7151afb1a4ea9b2ceb02a77cf79c4": {
          "model_module": "@jupyter-widgets/controls",
          "model_module_version": "1.5.0",
          "model_name": "HTMLModel",
          "state": {
            "_dom_classes": [],
            "_model_module": "@jupyter-widgets/controls",
            "_model_module_version": "1.5.0",
            "_model_name": "HTMLModel",
            "_view_count": null,
            "_view_module": "@jupyter-widgets/controls",
            "_view_module_version": "1.5.0",
            "_view_name": "HTMLView",
            "description": "",
            "description_tooltip": null,
            "layout": "IPY_MODEL_147ed42382104f698245603b7376e06c",
            "placeholder": "​",
            "style": "IPY_MODEL_6d2680fffe9e491e8101f2fafc5a9f0a",
            "value": "C&amp;W L_2: 100%"
          }
        },
        "f4f2fbf74cb349459e333cd334dc2018": {
          "model_module": "@jupyter-widgets/controls",
          "model_module_version": "1.5.0",
          "model_name": "ProgressStyleModel",
          "state": {
            "_model_module": "@jupyter-widgets/controls",
            "_model_module_version": "1.5.0",
            "_model_name": "ProgressStyleModel",
            "_view_count": null,
            "_view_module": "@jupyter-widgets/base",
            "_view_module_version": "1.2.0",
            "_view_name": "StyleView",
            "bar_color": null,
            "description_width": ""
          }
        },
        "f76bcbedc6a34490b5dbd907b46ecffa": {
          "model_module": "@jupyter-widgets/controls",
          "model_module_version": "1.5.0",
          "model_name": "FloatProgressModel",
          "state": {
            "_dom_classes": [],
            "_model_module": "@jupyter-widgets/controls",
            "_model_module_version": "1.5.0",
            "_model_name": "FloatProgressModel",
            "_view_count": null,
            "_view_module": "@jupyter-widgets/controls",
            "_view_module_version": "1.5.0",
            "_view_name": "ProgressView",
            "bar_style": "success",
            "description": "",
            "description_tooltip": null,
            "layout": "IPY_MODEL_dd97bf2cf26042b1a95bd98be7c4b32f",
            "max": 100,
            "min": 0,
            "orientation": "horizontal",
            "style": "IPY_MODEL_0393dbb5d5fa4f10b31d9033a4aeee3a",
            "value": 100
          }
        },
        "facdd66059394a1c96124d84641e728d": {
          "model_module": "@jupyter-widgets/controls",
          "model_module_version": "1.5.0",
          "model_name": "HBoxModel",
          "state": {
            "_dom_classes": [],
            "_model_module": "@jupyter-widgets/controls",
            "_model_module_version": "1.5.0",
            "_model_name": "HBoxModel",
            "_view_count": null,
            "_view_module": "@jupyter-widgets/controls",
            "_view_module_version": "1.5.0",
            "_view_name": "HBoxView",
            "box_style": "",
            "children": [
              "IPY_MODEL_e4f7151afb1a4ea9b2ceb02a77cf79c4",
              "IPY_MODEL_1b9dadfa4edb474f834b851aa38c557e",
              "IPY_MODEL_14907b34787b4f0abe5e3d9c083c6d57"
            ],
            "layout": "IPY_MODEL_deaad40f7c954c729fd4015d339cd68d"
          }
        }
      }
    }
  },
  "nbformat": 4,
  "nbformat_minor": 0
}
