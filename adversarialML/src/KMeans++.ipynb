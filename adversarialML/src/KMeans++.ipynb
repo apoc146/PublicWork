{
  "cells": [
    {
      "cell_type": "code",
      "execution_count": null,
      "metadata": {
        "colab": {
          "base_uri": "https://localhost:8080/",
          "height": 34
        },
        "id": "WwV5lMsU4z2b",
        "outputId": "f2076c5e-d3f6-415d-878f-7409ce9835e4"
      },
      "outputs": [
        {
          "output_type": "display_data",
          "data": {
            "text/plain": [
              "<Figure size 432x288 with 0 Axes>"
            ]
          },
          "metadata": {}
        }
      ],
      "source": [
        "import os  \n",
        "import time\n",
        "import matplotlib.pyplot as plt\n",
        "import matplotlib.image as mpimg\n",
        "from PIL import Image\n",
        "import numpy as np\n",
        "import pandas as pd\n",
        "import seaborn as sns\n",
        "import sys\n",
        "plt.set_cmap('Greys')"
      ]
    },
    {
      "cell_type": "code",
      "execution_count": null,
      "metadata": {
        "colab": {
          "base_uri": "https://localhost:8080/"
        },
        "id": "MM2YxHekpQQT",
        "outputId": "88af4c59-22a3-492c-9e54-c36372faa782"
      },
      "outputs": [
        {
          "output_type": "stream",
          "name": "stdout",
          "text": [
            "Mounted at /content/gdrive\n"
          ]
        }
      ],
      "source": [
        "## Mount GDrive to collab \n",
        "from google.colab import drive\n",
        "drive.mount('/content/gdrive')"
      ]
    },
    {
      "cell_type": "markdown",
      "source": [
        "## I am not scaling/normalizing the data"
      ],
      "metadata": {
        "id": "HYFc3rqCyCng"
      }
    },
    {
      "cell_type": "markdown",
      "source": [
        "# 4.1"
      ],
      "metadata": {
        "id": "26ojk4oVA0j1"
      }
    },
    {
      "cell_type": "code",
      "execution_count": null,
      "metadata": {
        "id": "eotuPSsRpTWx"
      },
      "outputs": [],
      "source": [
        "import os  \n",
        "\n",
        "dir_root = '/content/gdrive/MyDrive/Purdue/SEM1/CS 529/Assignments/A2/'\n",
        "\n",
        "dataset=dir_root+\"iris.data\"\n",
        "info_path=dir_root+\"iris.names\" \n"
      ]
    },
    {
      "cell_type": "code",
      "source": [
        "df=pd.read_csv(dataset,header=None,sep=r'\\s*,\\s*', engine='python')"
      ],
      "metadata": {
        "id": "7B4kE3mdlVXJ"
      },
      "execution_count": null,
      "outputs": []
    },
    {
      "cell_type": "code",
      "source": [
        "print(df.shape)\n",
        "df"
      ],
      "metadata": {
        "colab": {
          "base_uri": "https://localhost:8080/",
          "height": 441
        },
        "id": "7BCBNdIWA2rm",
        "outputId": "3335c3f2-a126-4c5a-86b0-6e5b6d3cf0dd"
      },
      "execution_count": null,
      "outputs": [
        {
          "output_type": "stream",
          "name": "stdout",
          "text": [
            "(150, 5)\n"
          ]
        },
        {
          "output_type": "execute_result",
          "data": {
            "text/plain": [
              "       0    1    2    3               4\n",
              "0    5.1  3.5  1.4  0.2     Iris-setosa\n",
              "1    4.9  3.0  1.4  0.2     Iris-setosa\n",
              "2    4.7  3.2  1.3  0.2     Iris-setosa\n",
              "3    4.6  3.1  1.5  0.2     Iris-setosa\n",
              "4    5.0  3.6  1.4  0.2     Iris-setosa\n",
              "..   ...  ...  ...  ...             ...\n",
              "145  6.7  3.0  5.2  2.3  Iris-virginica\n",
              "146  6.3  2.5  5.0  1.9  Iris-virginica\n",
              "147  6.5  3.0  5.2  2.0  Iris-virginica\n",
              "148  6.2  3.4  5.4  2.3  Iris-virginica\n",
              "149  5.9  3.0  5.1  1.8  Iris-virginica\n",
              "\n",
              "[150 rows x 5 columns]"
            ],
            "text/html": [
              "\n",
              "  <div id=\"df-476de844-3a15-4e95-8444-adb8d374a854\">\n",
              "    <div class=\"colab-df-container\">\n",
              "      <div>\n",
              "<style scoped>\n",
              "    .dataframe tbody tr th:only-of-type {\n",
              "        vertical-align: middle;\n",
              "    }\n",
              "\n",
              "    .dataframe tbody tr th {\n",
              "        vertical-align: top;\n",
              "    }\n",
              "\n",
              "    .dataframe thead th {\n",
              "        text-align: right;\n",
              "    }\n",
              "</style>\n",
              "<table border=\"1\" class=\"dataframe\">\n",
              "  <thead>\n",
              "    <tr style=\"text-align: right;\">\n",
              "      <th></th>\n",
              "      <th>0</th>\n",
              "      <th>1</th>\n",
              "      <th>2</th>\n",
              "      <th>3</th>\n",
              "      <th>4</th>\n",
              "    </tr>\n",
              "  </thead>\n",
              "  <tbody>\n",
              "    <tr>\n",
              "      <th>0</th>\n",
              "      <td>5.1</td>\n",
              "      <td>3.5</td>\n",
              "      <td>1.4</td>\n",
              "      <td>0.2</td>\n",
              "      <td>Iris-setosa</td>\n",
              "    </tr>\n",
              "    <tr>\n",
              "      <th>1</th>\n",
              "      <td>4.9</td>\n",
              "      <td>3.0</td>\n",
              "      <td>1.4</td>\n",
              "      <td>0.2</td>\n",
              "      <td>Iris-setosa</td>\n",
              "    </tr>\n",
              "    <tr>\n",
              "      <th>2</th>\n",
              "      <td>4.7</td>\n",
              "      <td>3.2</td>\n",
              "      <td>1.3</td>\n",
              "      <td>0.2</td>\n",
              "      <td>Iris-setosa</td>\n",
              "    </tr>\n",
              "    <tr>\n",
              "      <th>3</th>\n",
              "      <td>4.6</td>\n",
              "      <td>3.1</td>\n",
              "      <td>1.5</td>\n",
              "      <td>0.2</td>\n",
              "      <td>Iris-setosa</td>\n",
              "    </tr>\n",
              "    <tr>\n",
              "      <th>4</th>\n",
              "      <td>5.0</td>\n",
              "      <td>3.6</td>\n",
              "      <td>1.4</td>\n",
              "      <td>0.2</td>\n",
              "      <td>Iris-setosa</td>\n",
              "    </tr>\n",
              "    <tr>\n",
              "      <th>...</th>\n",
              "      <td>...</td>\n",
              "      <td>...</td>\n",
              "      <td>...</td>\n",
              "      <td>...</td>\n",
              "      <td>...</td>\n",
              "    </tr>\n",
              "    <tr>\n",
              "      <th>145</th>\n",
              "      <td>6.7</td>\n",
              "      <td>3.0</td>\n",
              "      <td>5.2</td>\n",
              "      <td>2.3</td>\n",
              "      <td>Iris-virginica</td>\n",
              "    </tr>\n",
              "    <tr>\n",
              "      <th>146</th>\n",
              "      <td>6.3</td>\n",
              "      <td>2.5</td>\n",
              "      <td>5.0</td>\n",
              "      <td>1.9</td>\n",
              "      <td>Iris-virginica</td>\n",
              "    </tr>\n",
              "    <tr>\n",
              "      <th>147</th>\n",
              "      <td>6.5</td>\n",
              "      <td>3.0</td>\n",
              "      <td>5.2</td>\n",
              "      <td>2.0</td>\n",
              "      <td>Iris-virginica</td>\n",
              "    </tr>\n",
              "    <tr>\n",
              "      <th>148</th>\n",
              "      <td>6.2</td>\n",
              "      <td>3.4</td>\n",
              "      <td>5.4</td>\n",
              "      <td>2.3</td>\n",
              "      <td>Iris-virginica</td>\n",
              "    </tr>\n",
              "    <tr>\n",
              "      <th>149</th>\n",
              "      <td>5.9</td>\n",
              "      <td>3.0</td>\n",
              "      <td>5.1</td>\n",
              "      <td>1.8</td>\n",
              "      <td>Iris-virginica</td>\n",
              "    </tr>\n",
              "  </tbody>\n",
              "</table>\n",
              "<p>150 rows × 5 columns</p>\n",
              "</div>\n",
              "      <button class=\"colab-df-convert\" onclick=\"convertToInteractive('df-476de844-3a15-4e95-8444-adb8d374a854')\"\n",
              "              title=\"Convert this dataframe to an interactive table.\"\n",
              "              style=\"display:none;\">\n",
              "        \n",
              "  <svg xmlns=\"http://www.w3.org/2000/svg\" height=\"24px\"viewBox=\"0 0 24 24\"\n",
              "       width=\"24px\">\n",
              "    <path d=\"M0 0h24v24H0V0z\" fill=\"none\"/>\n",
              "    <path d=\"M18.56 5.44l.94 2.06.94-2.06 2.06-.94-2.06-.94-.94-2.06-.94 2.06-2.06.94zm-11 1L8.5 8.5l.94-2.06 2.06-.94-2.06-.94L8.5 2.5l-.94 2.06-2.06.94zm10 10l.94 2.06.94-2.06 2.06-.94-2.06-.94-.94-2.06-.94 2.06-2.06.94z\"/><path d=\"M17.41 7.96l-1.37-1.37c-.4-.4-.92-.59-1.43-.59-.52 0-1.04.2-1.43.59L10.3 9.45l-7.72 7.72c-.78.78-.78 2.05 0 2.83L4 21.41c.39.39.9.59 1.41.59.51 0 1.02-.2 1.41-.59l7.78-7.78 2.81-2.81c.8-.78.8-2.07 0-2.86zM5.41 20L4 18.59l7.72-7.72 1.47 1.35L5.41 20z\"/>\n",
              "  </svg>\n",
              "      </button>\n",
              "      \n",
              "  <style>\n",
              "    .colab-df-container {\n",
              "      display:flex;\n",
              "      flex-wrap:wrap;\n",
              "      gap: 12px;\n",
              "    }\n",
              "\n",
              "    .colab-df-convert {\n",
              "      background-color: #E8F0FE;\n",
              "      border: none;\n",
              "      border-radius: 50%;\n",
              "      cursor: pointer;\n",
              "      display: none;\n",
              "      fill: #1967D2;\n",
              "      height: 32px;\n",
              "      padding: 0 0 0 0;\n",
              "      width: 32px;\n",
              "    }\n",
              "\n",
              "    .colab-df-convert:hover {\n",
              "      background-color: #E2EBFA;\n",
              "      box-shadow: 0px 1px 2px rgba(60, 64, 67, 0.3), 0px 1px 3px 1px rgba(60, 64, 67, 0.15);\n",
              "      fill: #174EA6;\n",
              "    }\n",
              "\n",
              "    [theme=dark] .colab-df-convert {\n",
              "      background-color: #3B4455;\n",
              "      fill: #D2E3FC;\n",
              "    }\n",
              "\n",
              "    [theme=dark] .colab-df-convert:hover {\n",
              "      background-color: #434B5C;\n",
              "      box-shadow: 0px 1px 3px 1px rgba(0, 0, 0, 0.15);\n",
              "      filter: drop-shadow(0px 1px 2px rgba(0, 0, 0, 0.3));\n",
              "      fill: #FFFFFF;\n",
              "    }\n",
              "  </style>\n",
              "\n",
              "      <script>\n",
              "        const buttonEl =\n",
              "          document.querySelector('#df-476de844-3a15-4e95-8444-adb8d374a854 button.colab-df-convert');\n",
              "        buttonEl.style.display =\n",
              "          google.colab.kernel.accessAllowed ? 'block' : 'none';\n",
              "\n",
              "        async function convertToInteractive(key) {\n",
              "          const element = document.querySelector('#df-476de844-3a15-4e95-8444-adb8d374a854');\n",
              "          const dataTable =\n",
              "            await google.colab.kernel.invokeFunction('convertToInteractive',\n",
              "                                                     [key], {});\n",
              "          if (!dataTable) return;\n",
              "\n",
              "          const docLinkHtml = 'Like what you see? Visit the ' +\n",
              "            '<a target=\"_blank\" href=https://colab.research.google.com/notebooks/data_table.ipynb>data table notebook</a>'\n",
              "            + ' to learn more about interactive tables.';\n",
              "          element.innerHTML = '';\n",
              "          dataTable['output_type'] = 'display_data';\n",
              "          await google.colab.output.renderOutput(dataTable, element);\n",
              "          const docLink = document.createElement('div');\n",
              "          docLink.innerHTML = docLinkHtml;\n",
              "          element.appendChild(docLink);\n",
              "        }\n",
              "      </script>\n",
              "    </div>\n",
              "  </div>\n",
              "  "
            ]
          },
          "metadata": {},
          "execution_count": 8
        }
      ]
    },
    {
      "cell_type": "code",
      "source": [
        "## New Data\n",
        "df2 = pd.concat([df[0]/df[1], df[2]/df[3], df[4]], join = 'outer', axis = 1)\n",
        "df2"
      ],
      "metadata": {
        "colab": {
          "base_uri": "https://localhost:8080/",
          "height": 424
        },
        "id": "3uAnuMK6BEzf",
        "outputId": "87474add-3a8b-4beb-87c3-df097436ba09"
      },
      "execution_count": null,
      "outputs": [
        {
          "output_type": "execute_result",
          "data": {
            "text/plain": [
              "            0         1               4\n",
              "0    1.457143  7.000000     Iris-setosa\n",
              "1    1.633333  7.000000     Iris-setosa\n",
              "2    1.468750  6.500000     Iris-setosa\n",
              "3    1.483871  7.500000     Iris-setosa\n",
              "4    1.388889  7.000000     Iris-setosa\n",
              "..        ...       ...             ...\n",
              "145  2.233333  2.260870  Iris-virginica\n",
              "146  2.520000  2.631579  Iris-virginica\n",
              "147  2.166667  2.600000  Iris-virginica\n",
              "148  1.823529  2.347826  Iris-virginica\n",
              "149  1.966667  2.833333  Iris-virginica\n",
              "\n",
              "[150 rows x 3 columns]"
            ],
            "text/html": [
              "\n",
              "  <div id=\"df-c9d6e798-ad50-4b7e-a3d4-6946cb43e611\">\n",
              "    <div class=\"colab-df-container\">\n",
              "      <div>\n",
              "<style scoped>\n",
              "    .dataframe tbody tr th:only-of-type {\n",
              "        vertical-align: middle;\n",
              "    }\n",
              "\n",
              "    .dataframe tbody tr th {\n",
              "        vertical-align: top;\n",
              "    }\n",
              "\n",
              "    .dataframe thead th {\n",
              "        text-align: right;\n",
              "    }\n",
              "</style>\n",
              "<table border=\"1\" class=\"dataframe\">\n",
              "  <thead>\n",
              "    <tr style=\"text-align: right;\">\n",
              "      <th></th>\n",
              "      <th>0</th>\n",
              "      <th>1</th>\n",
              "      <th>4</th>\n",
              "    </tr>\n",
              "  </thead>\n",
              "  <tbody>\n",
              "    <tr>\n",
              "      <th>0</th>\n",
              "      <td>1.457143</td>\n",
              "      <td>7.000000</td>\n",
              "      <td>Iris-setosa</td>\n",
              "    </tr>\n",
              "    <tr>\n",
              "      <th>1</th>\n",
              "      <td>1.633333</td>\n",
              "      <td>7.000000</td>\n",
              "      <td>Iris-setosa</td>\n",
              "    </tr>\n",
              "    <tr>\n",
              "      <th>2</th>\n",
              "      <td>1.468750</td>\n",
              "      <td>6.500000</td>\n",
              "      <td>Iris-setosa</td>\n",
              "    </tr>\n",
              "    <tr>\n",
              "      <th>3</th>\n",
              "      <td>1.483871</td>\n",
              "      <td>7.500000</td>\n",
              "      <td>Iris-setosa</td>\n",
              "    </tr>\n",
              "    <tr>\n",
              "      <th>4</th>\n",
              "      <td>1.388889</td>\n",
              "      <td>7.000000</td>\n",
              "      <td>Iris-setosa</td>\n",
              "    </tr>\n",
              "    <tr>\n",
              "      <th>...</th>\n",
              "      <td>...</td>\n",
              "      <td>...</td>\n",
              "      <td>...</td>\n",
              "    </tr>\n",
              "    <tr>\n",
              "      <th>145</th>\n",
              "      <td>2.233333</td>\n",
              "      <td>2.260870</td>\n",
              "      <td>Iris-virginica</td>\n",
              "    </tr>\n",
              "    <tr>\n",
              "      <th>146</th>\n",
              "      <td>2.520000</td>\n",
              "      <td>2.631579</td>\n",
              "      <td>Iris-virginica</td>\n",
              "    </tr>\n",
              "    <tr>\n",
              "      <th>147</th>\n",
              "      <td>2.166667</td>\n",
              "      <td>2.600000</td>\n",
              "      <td>Iris-virginica</td>\n",
              "    </tr>\n",
              "    <tr>\n",
              "      <th>148</th>\n",
              "      <td>1.823529</td>\n",
              "      <td>2.347826</td>\n",
              "      <td>Iris-virginica</td>\n",
              "    </tr>\n",
              "    <tr>\n",
              "      <th>149</th>\n",
              "      <td>1.966667</td>\n",
              "      <td>2.833333</td>\n",
              "      <td>Iris-virginica</td>\n",
              "    </tr>\n",
              "  </tbody>\n",
              "</table>\n",
              "<p>150 rows × 3 columns</p>\n",
              "</div>\n",
              "      <button class=\"colab-df-convert\" onclick=\"convertToInteractive('df-c9d6e798-ad50-4b7e-a3d4-6946cb43e611')\"\n",
              "              title=\"Convert this dataframe to an interactive table.\"\n",
              "              style=\"display:none;\">\n",
              "        \n",
              "  <svg xmlns=\"http://www.w3.org/2000/svg\" height=\"24px\"viewBox=\"0 0 24 24\"\n",
              "       width=\"24px\">\n",
              "    <path d=\"M0 0h24v24H0V0z\" fill=\"none\"/>\n",
              "    <path d=\"M18.56 5.44l.94 2.06.94-2.06 2.06-.94-2.06-.94-.94-2.06-.94 2.06-2.06.94zm-11 1L8.5 8.5l.94-2.06 2.06-.94-2.06-.94L8.5 2.5l-.94 2.06-2.06.94zm10 10l.94 2.06.94-2.06 2.06-.94-2.06-.94-.94-2.06-.94 2.06-2.06.94z\"/><path d=\"M17.41 7.96l-1.37-1.37c-.4-.4-.92-.59-1.43-.59-.52 0-1.04.2-1.43.59L10.3 9.45l-7.72 7.72c-.78.78-.78 2.05 0 2.83L4 21.41c.39.39.9.59 1.41.59.51 0 1.02-.2 1.41-.59l7.78-7.78 2.81-2.81c.8-.78.8-2.07 0-2.86zM5.41 20L4 18.59l7.72-7.72 1.47 1.35L5.41 20z\"/>\n",
              "  </svg>\n",
              "      </button>\n",
              "      \n",
              "  <style>\n",
              "    .colab-df-container {\n",
              "      display:flex;\n",
              "      flex-wrap:wrap;\n",
              "      gap: 12px;\n",
              "    }\n",
              "\n",
              "    .colab-df-convert {\n",
              "      background-color: #E8F0FE;\n",
              "      border: none;\n",
              "      border-radius: 50%;\n",
              "      cursor: pointer;\n",
              "      display: none;\n",
              "      fill: #1967D2;\n",
              "      height: 32px;\n",
              "      padding: 0 0 0 0;\n",
              "      width: 32px;\n",
              "    }\n",
              "\n",
              "    .colab-df-convert:hover {\n",
              "      background-color: #E2EBFA;\n",
              "      box-shadow: 0px 1px 2px rgba(60, 64, 67, 0.3), 0px 1px 3px 1px rgba(60, 64, 67, 0.15);\n",
              "      fill: #174EA6;\n",
              "    }\n",
              "\n",
              "    [theme=dark] .colab-df-convert {\n",
              "      background-color: #3B4455;\n",
              "      fill: #D2E3FC;\n",
              "    }\n",
              "\n",
              "    [theme=dark] .colab-df-convert:hover {\n",
              "      background-color: #434B5C;\n",
              "      box-shadow: 0px 1px 3px 1px rgba(0, 0, 0, 0.15);\n",
              "      filter: drop-shadow(0px 1px 2px rgba(0, 0, 0, 0.3));\n",
              "      fill: #FFFFFF;\n",
              "    }\n",
              "  </style>\n",
              "\n",
              "      <script>\n",
              "        const buttonEl =\n",
              "          document.querySelector('#df-c9d6e798-ad50-4b7e-a3d4-6946cb43e611 button.colab-df-convert');\n",
              "        buttonEl.style.display =\n",
              "          google.colab.kernel.accessAllowed ? 'block' : 'none';\n",
              "\n",
              "        async function convertToInteractive(key) {\n",
              "          const element = document.querySelector('#df-c9d6e798-ad50-4b7e-a3d4-6946cb43e611');\n",
              "          const dataTable =\n",
              "            await google.colab.kernel.invokeFunction('convertToInteractive',\n",
              "                                                     [key], {});\n",
              "          if (!dataTable) return;\n",
              "\n",
              "          const docLinkHtml = 'Like what you see? Visit the ' +\n",
              "            '<a target=\"_blank\" href=https://colab.research.google.com/notebooks/data_table.ipynb>data table notebook</a>'\n",
              "            + ' to learn more about interactive tables.';\n",
              "          element.innerHTML = '';\n",
              "          dataTable['output_type'] = 'display_data';\n",
              "          await google.colab.output.renderOutput(dataTable, element);\n",
              "          const docLink = document.createElement('div');\n",
              "          docLink.innerHTML = docLinkHtml;\n",
              "          element.appendChild(docLink);\n",
              "        }\n",
              "      </script>\n",
              "    </div>\n",
              "  </div>\n",
              "  "
            ]
          },
          "metadata": {},
          "execution_count": 9
        }
      ]
    },
    {
      "cell_type": "code",
      "source": [
        "plt.scatter(df2[0][:50], df2[1][:50], s=30, c=\"r\", label='setosa');\n",
        "plt.scatter(df2[0][50:100], df2[1][50:100], s=30, c=\"b\", label='versicolor');\n",
        "plt.scatter(df2[0][100:150], df2[1][100:150], s=30, c=\"g\", label='virginica');\n",
        "plt.legend(loc='upper right')"
      ],
      "metadata": {
        "colab": {
          "base_uri": "https://localhost:8080/",
          "height": 282
        },
        "id": "wjkuhn3mFsq0",
        "outputId": "4c511764-5abb-4774-d380-9cf8a789be90"
      },
      "execution_count": null,
      "outputs": [
        {
          "output_type": "execute_result",
          "data": {
            "text/plain": [
              "<matplotlib.legend.Legend at 0x7f02f84e0910>"
            ]
          },
          "metadata": {},
          "execution_count": 10
        },
        {
          "output_type": "display_data",
          "data": {
            "text/plain": [
              "<Figure size 432x288 with 1 Axes>"
            ],
            "image/png": "[encoded data removed]"
          },
          "metadata": {
            "needs_background": "light"
          }
        }
      ]
    },
    {
      "cell_type": "markdown",
      "source": [
        "# 4.2"
      ],
      "metadata": {
        "id": "gdLva-Uv0coE"
      }
    },
    {
      "cell_type": "markdown",
      "source": [
        "K Means++ differens only in the way of initializing the centroids. Since the clusters formed are sensistive to initial centroid selection K-Means++ gives better result.\n",
        "In K Means++ Point which is farthest from its nearest centroid has highest rpobability of getting selected."
      ],
      "metadata": {
        "id": "WLXcPCKa6dtZ"
      }
    },
    {
      "cell_type": "markdown",
      "source": [
        "## Reference : K-Means++ on Wiki : https://en.wikipedia.org/wiki/K-means%2B%2B"
      ],
      "metadata": {
        "id": "5ofpJL3W9ZzQ"
      }
    },
    {
      "cell_type": "markdown",
      "source": [
        "The exact algorithm is as follows:\n",
        "\n",
        "1.   Choose one center uniformly at random among the data points.\n",
        "2.   For each data point x not chosen yet, compute D(x), the distance between x and the nearest center that has already been chosen.\n",
        "3.  Choose one new data point at random as a new center, using a weighted probability distribution where a point x is chosen with probability proportional to D(x)2.( Choose point fartherst from its nearest centroid)\n",
        "4. Repeat Steps 2 and 3 until k centers have been chosen.\n",
        "5. Now that the initial centers have been chosen, proceed using standard k-means clustering.\n",
        "\n",
        "\n",
        "\n",
        "    \n",
        "    \n",
        "   \n",
        "    \n",
        "    "
      ],
      "metadata": {
        "id": "FiagSJuG9jMz"
      }
    },
    {
      "cell_type": "code",
      "source": [
        "# Return Euclidean Distance\n",
        "def euDist(p1, p2):\n",
        "    return np.sum((p1 - p2)**2)\n",
        "\n",
        "a=euDist(np.array([0,0]),np.array([2,2]))\n",
        "print(a)"
      ],
      "metadata": {
        "colab": {
          "base_uri": "https://localhost:8080/"
        },
        "id": "n-B5DkWl3N_H",
        "outputId": "87f14d94-0095-4cab-a51e-738cfa8b5dd4"
      },
      "execution_count": null,
      "outputs": [
        {
          "output_type": "stream",
          "name": "stdout",
          "text": [
            "8\n"
          ]
        }
      ]
    },
    {
      "cell_type": "code",
      "source": [
        "x_data=df2.iloc[:,:2]\n",
        "x_data\n",
        "data=x_data.to_numpy()\n",
        "\n",
        "centroids=[]\n",
        "centroids.append(data[np.random.randint(data.shape[0]), :])\n",
        "# plot(data, np.array(centroids))"
      ],
      "metadata": {
        "id": "PMst8HMQ0eML"
      },
      "execution_count": null,
      "outputs": []
    },
    {
      "cell_type": "code",
      "source": [
        "data[2, :]"
      ],
      "metadata": {
        "colab": {
          "base_uri": "https://localhost:8080/"
        },
        "id": "VjgdcDkWx8O1",
        "outputId": "da0f7bbc-1673-449d-cf16-4b755600c7c8"
      },
      "execution_count": null,
      "outputs": [
        {
          "output_type": "execute_result",
          "data": {
            "text/plain": [
              "array([1.46875, 6.5    ])"
            ]
          },
          "metadata": {},
          "execution_count": 47
        }
      ]
    },
    {
      "cell_type": "code",
      "source": [
        "## Get K centroids via K-Means++ Selection\n",
        "def get_centroids_kmeans(data,k):\n",
        "  centroid_list=[]\n",
        "  ## get any random centroid to begin with\n",
        "  centroid_list.append(data[np.random.randint(data.shape[0]), :])\n",
        "  # plot(data, np.array(centroid_list))\n",
        "\n",
        "  ## Now for all other left over k-1 centroids\n",
        "  for _ in range(k - 1):\n",
        "\n",
        "    # for each point find the nearest centroid\n",
        "    # from aboev points make the point which is farthest from its nearest centroid as the next centroid\n",
        "    # Essentially with largest(distance from nearest centroid)\n",
        "    dist = []\n",
        "    for i in range(data.shape[0]):\n",
        "      point = data[i, :]\n",
        "      d = sys.maxsize\n",
        "      \n",
        "      # for this given point find find closest centroid \n",
        "      for j in range(len(centroid_list)):\n",
        "        temp = euDist(point, centroid_list[j])\n",
        "        d = min(d, temp)\n",
        "      dist.append(d)\n",
        "             \n",
        "    #Now from the dist. vector find the one which is Max\n",
        "    dist = np.array(dist)\n",
        "    # print(f\"apoc->{dist.shape}\")\n",
        "    next_centroid = data[np.argmax(dist), :]\n",
        "    centroid_list.append(next_centroid)\n",
        "    dist = []\n",
        "\n",
        "  return centroid_list\n",
        "  # plot(data, np"
      ],
      "metadata": {
        "id": "iOiHtu0w0ezi"
      },
      "execution_count": null,
      "outputs": []
    },
    {
      "cell_type": "markdown",
      "source": [],
      "metadata": {
        "id": "VN6lJcLnyBOm"
      }
    },
    {
      "cell_type": "code",
      "source": [
        "cents=get_centroids_kmeans(data,5)\n",
        "print(cents)"
      ],
      "metadata": {
        "colab": {
          "base_uri": "https://localhost:8080/"
        },
        "id": "YxUZ70iu-tfs",
        "outputId": "70ea38d5-7715-4f3b-c16d-fdd4ba6a5b51"
      },
      "execution_count": null,
      "outputs": [
        {
          "output_type": "stream",
          "name": "stdout",
          "text": [
            "[array([2.23076923, 3.33333333]), array([ 1.26829268, 15.        ]), array([1.41176471, 9.5       ]), array([1.57142857, 6.5       ]), array([1.34210526, 4.75      ])]\n"
          ]
        }
      ]
    },
    {
      "cell_type": "code",
      "source": [
        "def kmeans(X, k, cent_vec, max_iter=-1):  \n",
        "    diff = 1  \n",
        "    cluster = np.zeros(X.shape[0])  \n",
        "    centroids = cent_vec\n",
        "    ## While a change in centroids in present keep running \n",
        "    iter_count=0 \n",
        "    while diff:\n",
        "        if(max_iter>0 and iter_count>max_iter):\n",
        "          break;   \n",
        "        # for each row\n",
        "        for i, row in enumerate(X):         \n",
        "            mn_dist = float('inf')        \n",
        "            # find the dist of each point(row) from all centroids        \n",
        "            for idx, centroid in enumerate(centroids):            \n",
        "                d = np.sqrt((centroid[0]-row[0])**2 + (centroid[1]-row[1])**2)            \n",
        "                # store closest centroid            \n",
        "                if mn_dist > d:               \n",
        "                    mn_dist = d               \n",
        "                    cluster[i] = idx\n",
        "\n",
        "        new_centroids = pd.DataFrame(X).groupby(by=cluster).mean().values     \n",
        "        # if there is no change notices in centroid then stop    \n",
        "        if np.count_nonzero(centroids-new_centroids) == 0:        \n",
        "            diff = 0      \n",
        "        else:        \n",
        "            centroids = new_centroids\n",
        "        iter_count=iter_count+1  \n",
        "    # # print(cluster.shape)\n",
        "    # print(f\"rounds {iter_count}\")\n",
        "    return centroids, cluster"
      ],
      "metadata": {
        "id": "bl4q-9iWFnRu"
      },
      "execution_count": null,
      "outputs": []
    },
    {
      "cell_type": "markdown",
      "source": [
        "## Now combine above Centroid Selection with K means to Form K-Means++\n",
        "\n",
        "For K=3"
      ],
      "metadata": {
        "id": "Zv9_T8B4KTO6"
      }
    },
    {
      "cell_type": "code",
      "source": [
        "centroids = get_centroids_kmeans(data, k = 3)\n",
        "cents,clustered = kmeans(data,3,centroids)"
      ],
      "metadata": {
        "colab": {
          "base_uri": "https://localhost:8080/"
        },
        "id": "d3q3WpYVKSI_",
        "outputId": "dd3d289c-748b-4813-b747-18bc29dc17e9"
      },
      "execution_count": null,
      "outputs": [
        {
          "output_type": "stream",
          "name": "stdout",
          "text": [
            "rounds 2\n"
          ]
        }
      ]
    },
    {
      "cell_type": "code",
      "source": [
        "print(centroids)\n",
        "print(clustered)"
      ],
      "metadata": {
        "colab": {
          "base_uri": "https://localhost:8080/"
        },
        "id": "4tYMt1fUKSRm",
        "outputId": "8a3e1e58-f9d1-46f7-92d1-5d0add62557a"
      },
      "execution_count": null,
      "outputs": [
        {
          "output_type": "stream",
          "name": "stdout",
          "text": [
            "[array([2.22580645, 2.57142857]), array([ 1.26829268, 15.        ]), array([1.58823529, 8.5       ])]\n",
            "[2. 2. 2. 2. 2. 0. 0. 2. 2. 1. 2. 2. 1. 2. 2. 0. 0. 0. 2. 0. 2. 0. 0. 0.\n",
            " 2. 2. 0. 2. 2. 2. 2. 0. 1. 2. 1. 2. 2. 1. 2. 2. 0. 0. 2. 0. 0. 0. 2. 2.\n",
            " 2. 2. 0. 0. 0. 0. 0. 0. 0. 0. 0. 0. 0. 0. 0. 0. 0. 0. 0. 0. 0. 0. 0. 0.\n",
            " 0. 0. 0. 0. 0. 0. 0. 0. 0. 0. 0. 0. 0. 0. 0. 0. 0. 0. 0. 0. 0. 0. 0. 0.\n",
            " 0. 0. 0. 0. 0. 0. 0. 0. 0. 0. 0. 0. 0. 0. 0. 0. 0. 0. 0. 0. 0. 0. 0. 0.\n",
            " 0. 0. 0. 0. 0. 0. 0. 0. 0. 0. 0. 0. 0. 0. 0. 0. 0. 0. 0. 0. 0. 0. 0. 0.\n",
            " 0. 0. 0. 0. 0. 0.]\n"
          ]
        }
      ]
    },
    {
      "cell_type": "code",
      "source": [
        "c1=np.where(clustered==2)\n",
        "c2=np.where(clustered==1)\n",
        "c3=np.where(clustered==0)"
      ],
      "metadata": {
        "id": "XlBGWxxRQSAK"
      },
      "execution_count": null,
      "outputs": []
    },
    {
      "cell_type": "code",
      "source": [
        "plt.scatter(df2[0].iloc[c1], df2[1].iloc[c1], s=30, c=\"r\", label='setosa');\n",
        "plt.scatter(df2[0].iloc[c2], df2[1].iloc[c2], s=30, c=\"b\", label='versicolor');\n",
        "plt.scatter(df2[0].iloc[c3], df2[1].iloc[c3], s=30, c=\"g\", label='virginica');\n",
        "plt.legend(loc='upper right')"
      ],
      "metadata": {
        "colab": {
          "base_uri": "https://localhost:8080/",
          "height": 282
        },
        "id": "uq25GEIFPtga",
        "outputId": "8739eecc-b1bf-40aa-c98a-fff2bfc3bd97"
      },
      "execution_count": null,
      "outputs": [
        {
          "output_type": "execute_result",
          "data": {
            "text/plain": [
              "<matplotlib.legend.Legend at 0x7f02f6f25750>"
            ]
          },
          "metadata": {},
          "execution_count": 85
        },
        {
          "output_type": "display_data",
          "data": {
            "text/plain": [
              "<Figure size 432x288 with 1 Axes>"
            ],
            "image/png": "[encoded data removed]"
          },
          "metadata": {
            "needs_background": "light"
          }
        }
      ]
    },
    {
      "cell_type": "markdown",
      "source": [
        "# 4.3"
      ],
      "metadata": {
        "id": "N5eJBewBNAvc"
      }
    },
    {
      "cell_type": "markdown",
      "source": [
        "### For the accuracy metric I am using WCSS/Elbow Plot to show accuracy \n",
        "Reference Article : https://towardsdatascience.com/k-means-clustering-explain-it-to-me-like-im-10-e0badf10734a\n",
        "\n",
        "It uses the square distance between point and its cluster as a metric to analyse if the clustering has been done properly. \n",
        "\n",
        "Elbow method is one of the most popular method used to select the optimal number of clusters for a range of K. The Elbow point where the graph values start decreasing in a linear manner is called as elbow point and indicates the best value of K."
      ],
      "metadata": {
        "id": "DFGte-15Ui8O"
      }
    },
    {
      "cell_type": "code",
      "source": [
        "# just given the sum of distance of points from their assigned clusters\n",
        "def calculate_cost(X, centroids, cluster):\n",
        "    sum = 0  \n",
        "    for i, row in enumerate(X):    \n",
        "        sum += np.sqrt((centroids[int(cluster[i]), 0]-row[0])**2 +(centroids[int(cluster[i]), 1]-row[1])**2)  \n",
        "    return sum"
      ],
      "metadata": {
        "id": "jaaLXpx25KGO"
      },
      "execution_count": null,
      "outputs": []
    },
    {
      "cell_type": "code",
      "source": [
        "data.shape"
      ],
      "metadata": {
        "colab": {
          "base_uri": "https://localhost:8080/"
        },
        "id": "Xgxr6rzOZk8z",
        "outputId": "706a0943-680d-4b57-9ef7-2aa38afbf6f3"
      },
      "execution_count": null,
      "outputs": [
        {
          "output_type": "execute_result",
          "data": {
            "text/plain": [
              "(150, 2)"
            ]
          },
          "metadata": {},
          "execution_count": 87
        }
      ]
    },
    {
      "cell_type": "code",
      "source": [
        "cost_vec=[]\n",
        "for k in [1,2,3,4,5]:\n",
        "  cents=get_centroids_kmeans(data,k)\n",
        "  cents_final,clustered = kmeans(data,3,cents,50)\n",
        "  cst=calculate_cost(data,cents_final,clustered)\n",
        "  cost_vec.append(cst)"
      ],
      "metadata": {
        "colab": {
          "base_uri": "https://localhost:8080/"
        },
        "id": "wgzKi5505KI8",
        "outputId": "c8c91937-cca1-45b4-f42f-bf7c2b8a9cbd"
      },
      "execution_count": null,
      "outputs": [
        {
          "output_type": "stream",
          "name": "stdout",
          "text": [
            "rounds 2\n",
            "rounds 3\n",
            "rounds 3\n",
            "rounds 4\n",
            "rounds 6\n"
          ]
        }
      ]
    },
    {
      "cell_type": "code",
      "source": [
        "cost_vec"
      ],
      "metadata": {
        "colab": {
          "base_uri": "https://localhost:8080/"
        },
        "id": "2n5fTH4E5KSs",
        "outputId": "099dd64d-8056-45b7-d881-1e9ddaaf9614"
      },
      "execution_count": null,
      "outputs": [
        {
          "output_type": "execute_result",
          "data": {
            "text/plain": [
              "[293.53100461798556,\n",
              " 213.41572458749565,\n",
              " 89.32454880632915,\n",
              " 79.00935412016476,\n",
              " 69.71959553264657]"
            ]
          },
          "metadata": {},
          "execution_count": 89
        }
      ]
    },
    {
      "cell_type": "code",
      "source": [
        "plt.plot([1,2,3,4,5], cost_vec, linewidth=2.0)\n",
        "plt.xlabel('K values')\n",
        "plt.ylabel('WCSS')\n",
        "plt.show()"
      ],
      "metadata": {
        "colab": {
          "base_uri": "https://localhost:8080/",
          "height": 279
        },
        "id": "aCRNCgv53_Hx",
        "outputId": "34944697-ab91-462e-d32c-31dabc29e76c"
      },
      "execution_count": null,
      "outputs": [
        {
          "output_type": "display_data",
          "data": {
            "text/plain": [
              "<Figure size 432x288 with 1 Axes>"
            ],
            "image/png": "[encoded data removed]"
          },
          "metadata": {
            "needs_background": "light"
          }
        }
      ]
    },
    {
      "cell_type": "markdown",
      "source": [
        "# 4.4"
      ],
      "metadata": {
        "id": "GmttAC2TbnsQ"
      }
    },
    {
      "cell_type": "markdown",
      "source": [
        "## We can see from Elbow Graph K=3 is the Elbow Point hence the best value of K\n",
        "It uses the square distance between points and its cluster as a metric to analyse if the clustering has been done properly.\n",
        "\n",
        "Elbow method is one of the most popular method used to select the optimal number of clusters for a range of K. The Elbow point where the graph values start decreasing in a linear manner is called as elbow point and indicates the best value of K."
      ],
      "metadata": {
        "id": "aBpgsKTnasrF"
      }
    },
    {
      "cell_type": "code",
      "source": [
        "data.shape"
      ],
      "metadata": {
        "colab": {
          "base_uri": "https://localhost:8080/"
        },
        "id": "5f8kiUXsvsqq",
        "outputId": "579af2c0-a70c-4063-9c06-c48f4f22c073"
      },
      "execution_count": null,
      "outputs": [
        {
          "output_type": "execute_result",
          "data": {
            "text/plain": [
              "(150, 2)"
            ]
          },
          "metadata": {},
          "execution_count": 91
        }
      ]
    },
    {
      "cell_type": "code",
      "source": [
        "cost_vec_iter=[]\n",
        "for iters in range(1,50):\n",
        "  cents=get_centroids_kmeans(data,3)\n",
        "  cents_final,clustered = kmeans(data,3,cents,iters)\n",
        "  cst=calculate_cost(data,cents_final,clustered)\n",
        "  cost_vec_iter.append(cst)\n",
        "\n",
        "plt.plot(range(1,50), cost_vec_iter, linewidth=2.0)\n",
        "plt.xlabel('Iterations')\n",
        "plt.ylabel('WCSS')\n",
        "plt.show()"
      ],
      "metadata": {
        "colab": {
          "base_uri": "https://localhost:8080/",
          "height": 279
        },
        "id": "0b5XMqThuecw",
        "outputId": "b82f6579-9831-49e0-ea31-65d2e54da201"
      },
      "execution_count": null,
      "outputs": [
        {
          "output_type": "display_data",
          "data": {
            "text/plain": [
              "<Figure size 432x288 with 1 Axes>"
            ],
            "image/png": "[encoded data removed]"
          },
          "metadata": {
            "needs_background": "light"
          }
        }
      ]
    },
    {
      "cell_type": "markdown",
      "source": [
        "### 4.4 (b)"
      ],
      "metadata": {
        "id": "aqZTmHCx4BgW"
      }
    },
    {
      "cell_type": "markdown",
      "source": [
        "### Already done above 4.3 section. Just repeating here again"
      ],
      "metadata": {
        "id": "-B6KJnVs5RQ8"
      }
    },
    {
      "cell_type": "code",
      "source": [
        "centroids = get_centroids_kmeans(data, k = 3)\n",
        "cents,clustered = kmeans(data,3,centroids)"
      ],
      "metadata": {
        "id": "yJsPdJKTcySS"
      },
      "execution_count": null,
      "outputs": []
    },
    {
      "cell_type": "code",
      "source": [
        "c1=np.where(clustered==2)\n",
        "c2=np.where(clustered==1)\n",
        "c3=np.where(clustered==0)"
      ],
      "metadata": {
        "id": "hrYhRa5N5Yc_"
      },
      "execution_count": null,
      "outputs": []
    },
    {
      "cell_type": "code",
      "source": [
        "plt.scatter(df2[0].iloc[c1], df2[1].iloc[c1], s=30, c=\"r\");\n",
        "plt.scatter(df2[0].iloc[c2], df2[1].iloc[c2], s=30, c=\"b\");\n",
        "plt.scatter(df2[0].iloc[c3], df2[1].iloc[c3], s=30, c=\"g\");\n",
        "## Plot Centroid\n",
        "plt.scatter([cents[0][0],cents[1][0],cents[2][0]],[cents[0][1],cents[1][1],cents[2][1]],s=100, c=\"black\")\n",
        "plt.legend(loc='upper right')"
      ],
      "metadata": {
        "colab": {
          "base_uri": "https://localhost:8080/",
          "height": 300
        },
        "id": "VKgmZs055bmp",
        "outputId": "3abb0ae6-eeea-49ac-9fa2-5103697f162a"
      },
      "execution_count": null,
      "outputs": [
        {
          "output_type": "stream",
          "name": "stderr",
          "text": [
            "WARNING:matplotlib.legend:No handles with labels found to put in legend.\n"
          ]
        },
        {
          "output_type": "execute_result",
          "data": {
            "text/plain": [
              "<matplotlib.legend.Legend at 0x7f02f4f363d0>"
            ]
          },
          "metadata": {},
          "execution_count": 110
        },
        {
          "output_type": "display_data",
          "data": {
            "text/plain": [
              "<Figure size 432x288 with 1 Axes>"
            ],
            "image/png": "[encoded data removed]"
          },
          "metadata": {
            "needs_background": "light"
          }
        }
      ]
    },
    {
      "cell_type": "code",
      "source": [
        "def preprocess(dir):\n",
        "    # To deal with the error when there is [] in the path\n",
        "    dir.replace('[','[[]')\n",
        "    dir.replace(']','[]]')\n",
        "    return dir\n",
        "\n",
        "########        YOUR CODE        #######\n",
        "your_ipynb_file_dir = '/content/gdrive/MyDrive/Purdue/SEM1/CS 529/Assignments/A2/Problem4.ipynb' # insert Your Path\n",
        "\n",
        "!jupyter nbconvert --to html '{preprocess(your_ipynb_file_dir)}'"
      ],
      "metadata": {
        "colab": {
          "base_uri": "https://localhost:8080/"
        },
        "id": "4p4mGzuW6lw9",
        "outputId": "ae687a8b-a0ae-4570-ce72-7c48885bf254"
      },
      "execution_count": null,
      "outputs": [
        {
          "output_type": "stream",
          "name": "stdout",
          "text": [
            "[NbConvertApp] Converting notebook /content/gdrive/MyDrive/Purdue/SEM1/CS 529/Assignments/A2/Problem4.ipynb to html\n",
            "[NbConvertApp] Writing 408492 bytes to /content/gdrive/MyDrive/Purdue/SEM1/CS 529/Assignments/A2/Problem4.html\n"
          ]
        }
      ]
    },
    {
      "cell_type": "code",
      "source": [],
      "metadata": {
        "id": "f9evUjUf6mim"
      },
      "execution_count": null,
      "outputs": []
    }
  ],
  "metadata": {
    "colab": {
      "provenance": [],
      "collapsed_sections": [
        "-nxCJK6QZ4ov",
        "8wNqbYGlaBq2",
        "_rrGYXG5wmRE"
      ]
    },
    "kernelspec": {
      "display_name": "Python 3 (ipykernel)",
      "language": "python",
      "name": "python3"
    },
    "language_info": {
      "codemirror_mode": {
        "name": "ipython",
        "version": 3
      },
      "file_extension": ".py",
      "mimetype": "text/x-python",
      "name": "python",
      "nbconvert_exporter": "python",
      "pygments_lexer": "ipython3",
      "version": "3.7.13"
    }
  },
  "nbformat": 4,
  "nbformat_minor": 0
}