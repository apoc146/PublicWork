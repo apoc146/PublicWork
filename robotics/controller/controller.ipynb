{
 "cells": [
  {
   "cell_type": "markdown",
   "metadata": {},
   "source": [
    "# Assignment 2: Classical Control\n",
    "Name: Shivam Bhat\n",
    "\n",
    "Purdue Username: bhat41\n",
    "\n",
    "\n",
    "In this assignment, you will implement and tune a trajectory following controller for a 2-degree of freedom(DoF) robotic arm, and (optionally) a race car."
   ]
  },
  {
   "cell_type": "markdown",
   "metadata": {
    "tags": []
   },
   "source": [
    "## Getting Started\n",
    "\n",
    "We'll be using OpenAI gym, along with PyBullet, to model the robot's environment.\n",
    "- [OpenAI gym](https://gym.openai.com/) is a toolkit for developing planning and control algorithms. It provides a standard API that abstracts away the model of the robot's environment. It is primarily used for reinforcement learning agents, but can work with any controller, including the PD controllers you'll build in this assignment.\n",
    "  - If you've never used gym, be sure to read this short [tutorial](https://gym.openai.com/docs/) before getting started.\n",
    "- [PyBullet](https://pybullet.org/wordpress/) is an open-source physics engine that we'll use to model the robot.\n",
    "- [pybullet-gym](https://github.com/benelot/pybullet-gym) is an open-source library that implements a variety of gym environments using PyBullet as the backend. One of these environments is `ReacherPyBulletEnv-v0`, the robotic arm that you'll be working with.\n",
    "\n",
    "## Installation Instructions\n",
    "Before running this notebook, you'll need to install `gym` and `pybullet-gym`, like so:\n",
    "```bash\n",
    "~ # install gym\n",
    "~ pip install gym=0.25.2\n",
    "~ # install pybullet-gym\n",
    "~ git clone https://github.com/benelot/pybullet-gym.git\n",
    "~ cd pybullet-gym\n",
    "~ pip install -e .\n",
    "```"
   ]
  },
  {
   "cell_type": "markdown",
   "metadata": {},
   "source": [
    "## Overview: 2-DOF robotic arm"
   ]
  },
  {
   "cell_type": "markdown",
   "metadata": {},
   "source": [
    "## Instruction ###\n",
    "### 1. Sometimes on having two pybullet env active, notebook crashes - Both for Q3 and Q6. This can be overcome by closing one before running another.<br>\n",
    "### 2. Ki=0 for my controller\n",
    "<br>"
   ]
  },
  {
   "cell_type": "code",
   "execution_count": 1,
   "metadata": {},
   "outputs": [
    {
     "name": "stdout",
     "output_type": "stream",
     "text": [
      "# conda environments:\n",
      "#\n",
      "base                     /Users/sbhat/miniconda3\n",
      "cs593                 *  /Users/sbhat/miniconda3/envs/cs593\n",
      "\n",
      "\n",
      "Note: you may need to restart the kernel to use updated packages.\n"
     ]
    }
   ],
   "source": [
    "conda info --env"
   ]
  },
  {
   "cell_type": "code",
   "execution_count": 2,
   "metadata": {},
   "outputs": [
    {
     "name": "stdout",
     "output_type": "stream",
     "text": [
      "# packages in environment at /Users/sbhat/miniconda3/envs/cs593:\n",
      "#\n",
      "# Name                    Version                   Build  Channel\n",
      "anyio                     3.5.0            py39hca03da5_0  \n",
      "appnope                   0.1.2           py39hca03da5_1001  \n",
      "argon2-cffi               21.3.0             pyhd3eb1b0_0  \n",
      "argon2-cffi-bindings      21.2.0           py39h1a28f6b_0  \n",
      "asttokens                 2.0.5              pyhd3eb1b0_0  \n",
      "attrs                     22.1.0           py39hca03da5_0  \n",
      "backcall                  0.2.0              pyhd3eb1b0_0  \n",
      "beautifulsoup4            4.11.1           py39hca03da5_0  \n",
      "blas                      1.0                    openblas  \n",
      "bleach                    4.1.0              pyhd3eb1b0_0  \n",
      "ca-certificates           2023.01.10           hca03da5_0  \n",
      "certifi                   2022.12.7        py39hca03da5_0  \n",
      "cffi                      1.15.1           py39h80987f9_3  \n",
      "cloudpickle               2.2.1                    pypi_0    pypi\n",
      "comm                      0.1.2            py39hca03da5_0  \n",
      "contourpy                 1.0.7                    pypi_0    pypi\n",
      "cycler                    0.11.0                   pypi_0    pypi\n",
      "debugpy                   1.5.1            py39hc377ac9_0  \n",
      "decorator                 5.1.1              pyhd3eb1b0_0  \n",
      "defusedxml                0.7.1              pyhd3eb1b0_0  \n",
      "entrypoints               0.4              py39hca03da5_0  \n",
      "executing                 0.8.3              pyhd3eb1b0_0  \n",
      "flit-core                 3.6.0              pyhd3eb1b0_0  \n",
      "fonttools                 4.38.0                   pypi_0    pypi\n",
      "gym                       0.21.0                   pypi_0    pypi\n",
      "icu                       68.1                 hc377ac9_0  \n",
      "idna                      3.4              py39hca03da5_0  \n",
      "ipykernel                 6.19.2           py39h86d0a89_0  \n",
      "ipython                   8.9.0            py39hca03da5_0  \n",
      "ipython_genutils          0.2.0              pyhd3eb1b0_1  \n",
      "jedi                      0.18.1           py39hca03da5_1  \n",
      "jinja2                    3.1.2            py39hca03da5_0  \n",
      "jsonschema                4.16.0           py39hca03da5_0  \n",
      "jupyter_client            7.4.9            py39hca03da5_0  \n",
      "jupyter_core              5.1.1            py39hca03da5_0  \n",
      "jupyter_server            1.23.4           py39hca03da5_0  \n",
      "jupyterlab_pygments       0.1.2                      py_0  \n",
      "kiwisolver                1.4.4                    pypi_0    pypi\n",
      "libcxx                    14.0.6               h848a8c0_0  \n",
      "libffi                    3.4.2                hca03da5_6  \n",
      "libgfortran               5.0.0           11_3_0_hca03da5_28  \n",
      "libgfortran5              11.3.0              h009349e_28  \n",
      "libiconv                  1.16                 h1a28f6b_2  \n",
      "libopenblas               0.3.21               h269037a_0  \n",
      "libsodium                 1.0.18               h1a28f6b_0  \n",
      "libxml2                   2.9.14               h8c5e841_0  \n",
      "libxslt                   1.1.35               h9833966_0  \n",
      "llvm-openmp               14.0.6               hc6e5704_0  \n",
      "lxml                      4.9.1            py39h2fae87d_0  \n",
      "markupsafe                2.1.1            py39h1a28f6b_0  \n",
      "matplotlib                3.6.3                    pypi_0    pypi\n",
      "matplotlib-inline         0.1.6            py39hca03da5_0  \n",
      "mistune                   0.8.4           py39h1a28f6b_1000  \n",
      "nb_conda_kernels          2.3.1            py39hca03da5_0  \n",
      "nbclassic                 0.4.8            py39hca03da5_0  \n",
      "nbclient                  0.5.13           py39hca03da5_0  \n",
      "nbconvert                 6.5.4            py39hca03da5_0  \n",
      "nbformat                  5.7.0            py39hca03da5_0  \n",
      "ncurses                   6.4                  h313beb8_0  \n",
      "nest-asyncio              1.5.6            py39hca03da5_0  \n",
      "notebook                  6.5.2            py39hca03da5_0  \n",
      "notebook-shim             0.2.2            py39hca03da5_0  \n",
      "numpy                     1.23.5           py39h1398885_0  \n",
      "numpy-base                1.23.5           py39h90707a3_0  \n",
      "openssl                   1.1.1t               h1a28f6b_0  \n",
      "packaging                 23.0                     pypi_0    pypi\n",
      "pandocfilters             1.5.0              pyhd3eb1b0_0  \n",
      "parso                     0.8.3              pyhd3eb1b0_0  \n",
      "pexpect                   4.8.0              pyhd3eb1b0_3  \n",
      "pickleshare               0.7.5           pyhd3eb1b0_1003  \n",
      "pillow                    9.4.0                    pypi_0    pypi\n",
      "pip                       22.3.1           py39hca03da5_0  \n",
      "platformdirs              2.5.2            py39hca03da5_0  \n",
      "prometheus_client         0.14.1           py39hca03da5_0  \n",
      "prompt-toolkit            3.0.36           py39hca03da5_0  \n",
      "psutil                    5.9.0            py39h1a28f6b_0  \n",
      "ptyprocess                0.7.0              pyhd3eb1b0_2  \n",
      "pure_eval                 0.2.2              pyhd3eb1b0_0  \n",
      "pybullet                  3.2.5                    pypi_0    pypi\n",
      "pybulletgym               0.1                       dev_0    <develop>\n",
      "pycparser                 2.21               pyhd3eb1b0_0  \n",
      "pygments                  2.11.2             pyhd3eb1b0_0  \n",
      "pyparsing                 3.0.9                    pypi_0    pypi\n",
      "pyrsistent                0.18.0           py39h1a28f6b_0  \n",
      "python                    3.9.16               hc0d8a6c_0  \n",
      "python-dateutil           2.8.2              pyhd3eb1b0_0  \n",
      "python-fastjsonschema     2.16.2           py39hca03da5_0  \n",
      "pyzmq                     23.2.0           py39hc377ac9_0  \n",
      "racecar                   0.0.1                     dev_0    <develop>\n",
      "readline                  8.2                  h1a28f6b_0  \n",
      "send2trash                1.8.0              pyhd3eb1b0_1  \n",
      "setuptools                65.6.3           py39hca03da5_0  \n",
      "six                       1.16.0             pyhd3eb1b0_1  \n",
      "sniffio                   1.2.0            py39hca03da5_1  \n",
      "soupsieve                 2.3.2.post1      py39hca03da5_0  \n",
      "sqlite                    3.40.1               h7a7dc30_0  \n",
      "stack_data                0.2.0              pyhd3eb1b0_0  \n",
      "terminado                 0.17.1           py39hca03da5_0  \n",
      "tinycss2                  1.2.1            py39hca03da5_0  \n",
      "tk                        8.6.12               hb8d0fd4_0  \n",
      "tornado                   6.2              py39h1a28f6b_0  \n",
      "traitlets                 5.7.1            py39hca03da5_0  \n",
      "typing-extensions         4.4.0            py39hca03da5_0  \n",
      "typing_extensions         4.4.0            py39hca03da5_0  \n",
      "tzdata                    2022g                h04d1e81_0  \n",
      "wcwidth                   0.2.5              pyhd3eb1b0_0  \n",
      "webencodings              0.5.1            py39hca03da5_1  \n",
      "websocket-client          0.58.0           py39hca03da5_4  \n",
      "wheel                     0.37.1             pyhd3eb1b0_0  \n",
      "xz                        5.2.10               h80987f9_1  \n",
      "zeromq                    4.3.4                hc377ac9_0  \n",
      "zlib                      1.2.13               h5a0b063_0  \n",
      "\n",
      "Note: you may need to restart the kernel to use updated packages.\n"
     ]
    }
   ],
   "source": [
    "conda list"
   ]
  },
  {
   "cell_type": "code",
   "execution_count": 3,
   "metadata": {},
   "outputs": [
    {
     "name": "stdout",
     "output_type": "stream",
     "text": [
      "/Users/sbhat/Documents/Purdue/purduePrivate/assignments/a2/pybullet-gym\n",
      "LICENSE.md           __init__.py          \u001b[34mpybulletgym\u001b[m\u001b[m\n",
      "README.md            arm_traj.png         \u001b[34mpybulletgym.egg-info\u001b[m\u001b[m\n",
      "\u001b[34mRaceCar\u001b[m\u001b[m              arm_traj_error.png   requirements.txt\n",
      "\u001b[34mRaceCarOG\u001b[m\u001b[m            pd_arm_traj.png      setup.py\n",
      "Obtaining file:///Users/sbhat/Documents/Purdue/purduePrivate/assignments/a2/pybullet-gym\n",
      "  Preparing metadata (setup.py) ... \u001b[?25ldone\n",
      "\u001b[?25hRequirement already satisfied: pybullet>=1.7.8 in /Users/sbhat/miniconda3/envs/cs593/lib/python3.9/site-packages (from pybulletgym==0.1) (3.2.5)\n",
      "Installing collected packages: pybulletgym\n",
      "  Attempting uninstall: pybulletgym\n",
      "    Found existing installation: pybulletgym 0.1\n",
      "    Uninstalling pybulletgym-0.1:\n",
      "      Successfully uninstalled pybulletgym-0.1\n",
      "  Running setup.py develop for pybulletgym\n",
      "Successfully installed pybulletgym-0.1\n"
     ]
    }
   ],
   "source": [
    "%cd pybullet-gym\n",
    "!ls\n",
    "!pip install -e ."
   ]
  },
  {
   "cell_type": "code",
   "execution_count": 1,
   "metadata": {},
   "outputs": [
    {
     "name": "stderr",
     "output_type": "stream",
     "text": [
      "pybullet build time: Feb 14 2023 21:20:29\n"
     ]
    }
   ],
   "source": [
    "# load libraries (if this fails, see \"Installation Instructions\")\n",
    "import gym\n",
    "import numpy as np\n",
    "import pybulletgym.envs\n",
    "import matplotlib.pyplot as plt\n",
    "import pybullet\n",
    "\n",
    "import math"
   ]
  },
  {
   "cell_type": "code",
   "execution_count": 2,
   "metadata": {},
   "outputs": [],
   "source": [
    "##-- PARAMS --##\n",
    "pi=np.pi\n",
    "l1=0.1\n",
    "l2=0.11"
   ]
  },
  {
   "cell_type": "code",
   "execution_count": 3,
   "metadata": {},
   "outputs": [
    {
     "name": "stderr",
     "output_type": "stream",
     "text": [
      "/Users/sbhat/miniconda3/envs/cs593/lib/python3.9/site-packages/gym/spaces/box.py:73: UserWarning: \u001b[33mWARN: Box bound precision lowered by casting to float32\u001b[0m\n",
      "  logger.warn(\n"
     ]
    }
   ],
   "source": [
    "# initialize the environment\n",
    "\n",
    "# This try-except is to make sure there is only a single pybullet connection set-up\n",
    "try:\n",
    "    env.reset()\n",
    "except NameError:\n",
    "    env = gym.make(\"ReacherPyBulletEnv-v0\")\n",
    "\n",
    "env.render(mode=\"human\")\n",
    "obs = env.reset()"
   ]
  },
  {
   "cell_type": "code",
   "execution_count": 7,
   "metadata": {},
   "outputs": [],
   "source": [
    "pybullet.resetDebugVisualizerCamera(1, 5, -80, np.array([0,0,0]))"
   ]
  },
  {
   "cell_type": "markdown",
   "metadata": {},
   "source": [
    "The robot arm you will be controlling looks like this:\n",
    "\n",
    "![RobotArm](robotArm.png)\n",
    "\n",
    "The base of the robot is at the origin; the links $l_0$ and $l_1$ are 0.1 and 0.11 units long respectively.\n",
    "\n",
    "The action space of environment is [$\\tau_0$,$\\tau_1$], where $\\tau_0$ and $\\tau_1$ are the torques applied to joints $q_0$ and $q_1$ respectively."
   ]
  },
  {
   "cell_type": "markdown",
   "metadata": {},
   "source": [
    "Do _not_ use the observation space of the environment to get the robot's position. Instead, use the following class methods to obtain the joint angles:\n",
    "```python\n",
    "# To get the current position and angular velocity of q0\n",
    "q0, q0_dot = env.unwrapped.robot.central_joint.current_position()\n",
    "# To get the current position and angular velocity of q1\n",
    "q1, q1_dot = env.unwrapped.robot.elbow_joint.current_position()\n",
    "\n",
    "# To set joint q0 to a particular position. (Use only before running your controller, to initialize the start position)\n",
    "env.unwrapped.robot.central_joint.reset_position(position, 0)\n",
    "# To set joint q1 to a particular position. (Use only before running your controller, to initialize the start position)\n",
    "env.unwrapped.robot.elbow_joint.reset_position(position, 0)\n",
    "```"
   ]
  },
  {
   "cell_type": "markdown",
   "metadata": {},
   "source": [
    "Your job is to implement PD controllers that track the trajectory\n",
    "\n",
    "$$\\begin{bmatrix}x(\\theta) \\\\ y(\\theta)\\end{bmatrix}\n",
    "= \\begin{bmatrix}(0.19 + 0.02 \\cos 4\\theta)\\cos\\theta \\\\ (0.19 + 0.02 \\cos 4\\theta)\\sin\\theta\\end{bmatrix},\n",
    "\\text{ for }\\theta \\in [-\\pi, \\pi]$$\n",
    "\n",
    "This trajectory is plotted below:"
   ]
  },
  {
   "cell_type": "code",
   "execution_count": 11,
   "metadata": {},
   "outputs": [
    {
     "data": {
      "image/png": "[encoded data removed]",
      "text/plain": [
       "<Figure size 640x480 with 1 Axes>"
      ]
     },
     "metadata": {},
     "output_type": "display_data"
    }
   ],
   "source": [
    "x = [(0.19 + 0.02 * np.cos(theta * 4)) * np.cos(theta) for theta in np.arange(-np.pi, np.pi, 0.001)]\n",
    "y = [(0.19 + 0.02 * np.cos(theta * 4)) * np.sin(theta) for theta in np.arange(-np.pi, np.pi, 0.001)]\n",
    "plt.plot(x, y, 'b')\n",
    "plt.axis('equal')\n",
    "# plt.show()\n",
    "plt.savefig('arm_traj.png')\n",
    "traj = list(zip(x,y))"
   ]
  },
  {
   "cell_type": "markdown",
   "metadata": {},
   "source": [
    "### 1. Forward Model "
   ]
  },
  {
   "cell_type": "markdown",
   "metadata": {},
   "source": [
    "Derive the forward model for the robot as a closed-form expression expressed in joint angles and link length:\n",
    "\n",
    "$$f\\left(\\begin{bmatrix}q_0 \\\\ q_1\\end{bmatrix}\\right) =\n",
    "\\begin{bmatrix}\n",
    "% your answer here\n",
    "l_0cos(q_0)+l_1cos(q_0+q_1)\\\\\n",
    "l_0cos(q_0)+l_1cos(q_0+q_1)\n",
    "\\end{bmatrix}\n",
    "= \\begin{bmatrix} x \\\\ y\\end{bmatrix}$$"
   ]
  },
  {
   "cell_type": "markdown",
   "metadata": {},
   "source": [
    "Using the robot model parameters, write a function `getForwardModel` that takes the joint states and returns the end-effector position."
   ]
  },
  {
   "cell_type": "code",
   "execution_count": null,
   "metadata": {},
   "outputs": [],
   "source": [
    "def getForwardModel(q0, q1):\n",
    "    x=l1*np.cos(q0)+l2*np.cos(q0+q1)\n",
    "    y=l1*np.sin(q0)+l2*np.sin(q0+q1)\n",
    "    return [x,y]"
   ]
  },
  {
   "cell_type": "markdown",
   "metadata": {},
   "source": [
    "### 2. Jacobian"
   ]
  },
  {
   "cell_type": "markdown",
   "metadata": {},
   "source": [
    "Derive the expression for the Jacobian of the robot:\n",
    "\n",
    "$$J_f(q_0, q_1) = \\begin{bmatrix}\n",
    "\\underline{\\;\\;\\;\\;} % your answer here\n",
    "\\end{bmatrix}$$"
   ]
  },
  {
   "cell_type": "markdown",
   "metadata": {},
   "source": [
    "Derive the expression for the Jacobian of the robot:\n",
    "\n",
    "$$J_f(q_0, q_1) = \\begin{bmatrix}\n",
    "\\frac{\\partial x}{\\partial q_0},\\frac{\\partial x}{\\partial q_1} \\\\\n",
    "\\frac{\\partial y}{\\partial q_0},\\frac{\\partial y}{\\partial q_1}\n",
    "\\end{bmatrix} \n",
    "$$\n",
    "Also we know that,<br>\n",
    "$x=l_0*cos(q_0)+l_1*cos(q_0+q_1)$ \\\n",
    "$y=l_0*sin(q_0)+l_1*sin(q_0+q_1)$ \\\n",
    "So, on pluggin we get,\n",
    "$$J_f(q_0, q_1) = \\begin{bmatrix}\n",
    "-l_0sin(q_0)-l_1sin(q_0+q_1), -l_1sin(q_0+q_1) \\\\\n",
    "l_0cos(q_0)+l_1cos(q_0+q_1), l_1cos(q_0+q_1))\n",
    "\\end{bmatrix}$$"
   ]
  },
  {
   "cell_type": "markdown",
   "metadata": {},
   "source": [
    "Write a function `getJacobian` that takes the joint states and returns the Jacobian."
   ]
  },
  {
   "cell_type": "code",
   "execution_count": 38,
   "metadata": {},
   "outputs": [],
   "source": [
    "#for my code l1 is l0 and l2 is l2\n",
    "def getJacobian(q0, q1):\n",
    "    jaco=np.array([-l1*np.sin(q0)-l2*np.sin(q0+q1),-l2*np.sin(q0+q1),l1*np.cos(q0)+l2*np.cos(q0+q1),l2*np.cos(q0+q1)]).reshape(2,2)\n",
    "    return jaco"
   ]
  },
  {
   "cell_type": "markdown",
   "metadata": {
    "tags": []
   },
   "source": [
    "### 3. X-Y controller\n",
    "\n",
    "**Background:** for reasons beyond the scope of this course, it so happens that, for any robot,\n",
    "$$\\vec \\tau = J^T \\vec F,$$\n",
    "where\n",
    "- $\\vec F = \\langle F_x, F_y \\rangle$ is the force vector exerted by the robot at the end effector\n",
    "- $\\vec \\tau = \\langle \\tau_0, \\tau_1 \\rangle$ is the vector of torques exerted by the joints\n",
    "- $J$ is the Jacobian matrix at the current position.\n",
    "\n",
    "Use this fact to implement a closed-loop PD controller that controls the robot along the trajectory `traj`, using the error in the end-effector as the input signal. Your controller should compute forces $F_x$ and $F_y$, and then use `getJacobian` along with the above equation to translate them into joint torques.\n",
    "\n",
    "Plot the trajectory of the robot juxtaposed over the desired trajectory, and calculate the mean square error between both paths. Also plot the errors with respect to time, and use those plots to tune your controller.\n",
    "\n",
    "**Note: Initialize the robot arm to $q_0=\\pi$ and $q_1=0$**"
   ]
  },
  {
   "cell_type": "code",
   "execution_count": 3,
   "metadata": {},
   "outputs": [],
   "source": [
    "def sq_error(A,B):\n",
    "    ## mean sq error ##\n",
    "    return np.square(np.subtract(A, B)).mean()"
   ]
  },
  {
   "cell_type": "code",
   "execution_count": 4,
   "metadata": {},
   "outputs": [],
   "source": [
    "def mse_error(A,B):\n",
    "    ## mse error ##\n",
    "    ans= np.square(np.subtract(A, B)).mean()\n",
    "    return ans"
   ]
  },
  {
   "cell_type": "code",
   "execution_count": 5,
   "metadata": {},
   "outputs": [],
   "source": [
    "def resetBody():\n",
    "    env.unwrapped.robot.central_joint.reset_position(pi, 0)\n",
    "    env.unwrapped.robot.elbow_joint.reset_position(0, 0)"
   ]
  },
  {
   "cell_type": "code",
   "execution_count": 6,
   "metadata": {},
   "outputs": [],
   "source": [
    "def plot_original_traj(plt):\n",
    "    x = [(0.19 + 0.02 * np.cos(theta * 4)) * np.cos(theta) for theta in np.arange(-np.pi, np.pi, 0.001)]\n",
    "    y = [(0.19 + 0.02 * np.cos(theta * 4)) * np.sin(theta) for theta in np.arange(-np.pi, np.pi, 0.001)]\n",
    "    plt.plot(x, y)\n",
    "    plt.axis('equal')"
   ]
  },
  {
   "cell_type": "code",
   "execution_count": 7,
   "metadata": {},
   "outputs": [],
   "source": [
    "def PdController(kp,kd,goalTraj,useSqrtKD=False):\n",
    "    import math\n",
    "    #define the pd controllers\n",
    "    ## I am choosing Kd=sqrt(Kp)\n",
    "    Kp=kp\n",
    "    Kd=kd\n",
    "    \n",
    "    if(useSqrtKD==True):\n",
    "        Kd=sqrt(Kp)\n",
    "\n",
    "    ## End-effector pos and velocity\n",
    "    q0, q0_dot = env.unwrapped.robot.central_joint.current_position()\n",
    "    q1, q1_dot = env.unwrapped.robot.elbow_joint.current_position()\n",
    "\n",
    "    ## store ee points- used for plotting\n",
    "    ee_pos_track=[]\n",
    "    mse_track=[]\n",
    "    err_track=[]\n",
    "\n",
    "    ##Previous error\n",
    "    error_pos_prev=np.zeros(2).reshape(2,1)\n",
    "\n",
    "    for i in range(len(traj)):\n",
    "        ## get angle configs\n",
    "        q0, q0_dot = env.unwrapped.robot.central_joint.current_position()\n",
    "        q1, q1_dot = env.unwrapped.robot.elbow_joint.current_position()\n",
    "\n",
    "        J=getJacobian(q0,q1)\n",
    "\n",
    "        ## get end-effector position\n",
    "        ee_x,ee_y=getForwardModel(q0,q1)\n",
    "        ee_pos=np.array([ee_x,ee_y]).reshape(2,1)\n",
    "\n",
    "        ## goal end-effector position\n",
    "        ee_goal=np.array(traj[i]).reshape(2,1)\n",
    "\n",
    "        ## store position for plotting\n",
    "        ee_pos_track.append([ee_x,ee_y])\n",
    "\n",
    "        error_pos=ee_goal-ee_pos\n",
    "        del_error_pos=error_pos-error_pos_prev\n",
    "        \n",
    "        err_track.append(sq_error(ee_goal,ee_pos))\n",
    "\n",
    "        ## Force for PD controller\n",
    "        F=Kp*error_pos+Kd*del_error_pos\n",
    "\n",
    "        ## Calculate and apply torque - Tau = (Transpose(J).F)\n",
    "        tau=np.dot(J.T,F)\n",
    "        env.step(tau)\n",
    "\n",
    "        ## Update last error prev - used for delta error\n",
    "        error_pos_prev=error_pos\n",
    "\n",
    "    print(\"MSE ERROR :{}\\n\".format(np.mean(err_track)))\n",
    "#   print(\"pred len {}\".format(len(ee_pos_track)))\n",
    "    x = [ele[0] for ele in ee_pos_track]\n",
    "    y = [ele[1] for ele in ee_pos_track]\n",
    "    plt.plot(x, y, color=\"r\")\n",
    "    plt.axis('equal')\n",
    "    plot_original_traj(plt)\n",
    "    plt.show()\n",
    "    plt.savefig('pd_arm_traj.png')\n",
    "    \n",
    "    plt.plot(range(len(err_track)), err_track, color=\"y\")\n",
    "    plt.show()\n",
    "\n",
    "\n",
    "    "
   ]
  },
  {
   "cell_type": "code",
   "execution_count": 19,
   "metadata": {},
   "outputs": [
    {
     "name": "stdout",
     "output_type": "stream",
     "text": [
      "MSE ERROR :5.2761670383716196e-08\n",
      "\n"
     ]
    },
    {
     "data": {
      "image/png": "[encoded data removed]",
      "text/plain": [
       "<Figure size 640x480 with 1 Axes>"
      ]
     },
     "metadata": {},
     "output_type": "display_data"
    },
    {
     "data": {
      "image/png": "[encoded data removed]",
      "text/plain": [
       "<Figure size 640x480 with 1 Axes>"
      ]
     },
     "metadata": {},
     "output_type": "display_data"
    }
   ],
   "source": [
    "resetBody()\n",
    "PdController(100,math.sqrt(100),traj)"
   ]
  },
  {
   "cell_type": "markdown",
   "metadata": {},
   "source": [
    "### 4. Inverse Kinematics"
   ]
  },
  {
   "cell_type": "markdown",
   "metadata": {},
   "source": [
    "Using the functions `getForwardModel` and `getJacobian` from parts 1 and 2, write a function `getIK` that takes the current end-effector position, target end-effector position, and current joint states; and returns the target joint-states."
   ]
  },
  {
   "cell_type": "code",
   "execution_count": 20,
   "metadata": {},
   "outputs": [],
   "source": [
    "def getIK(current_position, target_position, current_state):\n",
    "\n",
    "    curr_pos=np.array(current_position).reshape(2,1)\n",
    "    targ_pos=np.array(target_position).reshape(2,1)\n",
    "    curr_state=np.array(current_state).reshape(2,1)\n",
    "    \n",
    "    q0=curr_state[0]\n",
    "    q1=curr_state[1]\n",
    "    J=getJacobian(q0,q1)\n",
    "    Jinv=np.linalg.pinv(J)\n",
    "    GAMMA=0.1\n",
    "\n",
    "    e=10000;\n",
    "    THRESHOLD=0.001\n",
    "    while(e>THRESHOLD):\n",
    "        q0=curr_state[0]\n",
    "        q1=curr_state[1]\n",
    "\n",
    "        ee_pos=getForwardModel(q0,q1)\n",
    "        curr_pos=np.array(ee_pos).reshape(2,1)\n",
    "        \n",
    "        del_ee_pos=curr_pos-targ_pos\n",
    "        \n",
    "        J=getJacobian(q0,q1)\n",
    "        Jinv=np.linalg.pinv(J)\n",
    "        \n",
    "        del_q=Jinv@del_ee_pos\n",
    "        curr_state=curr_state-(GAMMA*del_q)\n",
    "#         print(\"\\nDEL Q {}\".format(del_q))\n",
    "        e=mse_error(ee_pos,targ_pos)\n",
    "#         print(\"IN Error {}\\n\".format(e))\n",
    "    return curr_state\n"
   ]
  },
  {
   "cell_type": "code",
   "execution_count": 21,
   "metadata": {},
   "outputs": [
    {
     "name": "stdout",
     "output_type": "stream",
     "text": [
      "[[ 13.41392937]\n",
      " [-11.1835432 ]]\n"
     ]
    }
   ],
   "source": [
    "print(getIK([0,0],[0,0.2],[pi,0]))"
   ]
  },
  {
   "cell_type": "markdown",
   "metadata": {},
   "source": [
    "Now derive the analytical inverse kinematic solution; i.e. solve the problem using a closed-form equation, rather than an iterative method. _Show your work_. Correct answers without derivations will not receive full credit.\n",
    "\\begin{align*}\n",
    "    % your derivations here\n",
    "    q_0 &= \\underline{\\;\\;\\;\\;} \\\\\n",
    "    q_1 &= \\underline{\\;\\;\\;\\;}\n",
    "\\end{align*}\n",
    "\n",
    "Explain what challenges there would be to use the analytical IK solution to track trajectories:\n",
    "\n",
    "_<your explanation here\\>_"
   ]
  },
  {
   "cell_type": "code",
   "execution_count": null,
   "metadata": {},
   "outputs": [],
   "source": []
  },
  {
   "cell_type": "markdown",
   "metadata": {},
   "source": [
    "𝑥 = 𝑙0 cos (q0) + 𝑙1 cos(q0 +q1)<br>\n",
    "𝑦 = 𝑙0 sin (q1) + 𝑙1 sin(q0 +q1)<br><br>\n",
    "Use formula of cos(x+y) and sin(x+y) here<br><br>\n",
    "Now to find the inverse kinematics, we need to solve for 𝜃1 and 𝜃2 in terms of 𝑥 and 𝑦. <br>\n",
    "Using basic Pythagoras theorem to solve for 𝜃1:<br>\n",
    "𝑙0² + 𝑙1² + 2𝑙0𝑙1 cos(q1) = 𝑥² + 𝑦²<br>\n",
    "cos(q1) = (𝑥² + 𝑦² - 𝑙0² - 𝑙1²) / (2𝑙0𝑙1)<br>\n",
    "\n",
    "We can then use the arccosine function to solve for 𝜃2:\n",
    "\n",
    "q1 = ± acos [(𝑥² + 𝑦² - 𝑙0² - 𝑙1²) / (2𝑙0𝑙1)]\n",
    "\n",
    "To determine the sign of q1, we need to consider the configuration of the robot arm. If the end-effector is on the opposite side of the 𝑦-axis compared to the origin, we take the negative of the arccosine. Otherwise, we take the positive arccosine.\n",
    "\n",
    "Next, we can use the law of cosines to solve for q0:\n",
    "\n",
    "cos(q0) = (𝑙0² + 𝑥² + 𝑦² - 𝑙1² - 2𝑙0(𝑥 cos(q1) + 𝑦 sin(q1))) / (2𝑙0√(𝑥² + 𝑦²))\n",
    "\n",
    "Again, we can use the arccosine function to solve for q0:\n",
    "\n",
    "q0 = atan2(𝑦, 𝑥) - atan2(𝑙1 sin(q1), 𝑙0 + 𝑙1 cos(q1))\n",
    "\n",
    "On Consolidating resulst we get<br>\n",
    "\n",
    "q1= ± acos [(𝑥² + 𝑦² - 𝑙0² - 𝑙1²) / (2𝑙0𝑙1)]<br>\n",
    "q0 = atan2(𝑦, 𝑥) - atan2(𝑙1 sin(q1), 𝑙0 + 𝑙1 cos(q1)) <br>\n",
    "\n",
    "atan is arctan. acos is arccos inverse and likewise<br><br>\n",
    "\n",
    "Explain what challenges there would be to use the analytical IK solution to track trajectories:<br>\n",
    "\n",
    "1. Solution Uniqueness: In some cases,like the one shown above (via +- sign for q1) there may be multiple solutions to the analytical IK problem. This happens since for a specific end effector position the arm can be positioned \n",
    "in various ways hence with various angles<br><br>\n",
    "\n",
    "2. The analytical version doesnt incorporate error sensitivity. In iterative one we iterate until it reaches close to goal with certain specified thereshold. This error Threshold hens helps better tune and incorporate error sensitivity too.<br><br>\n",
    "\n",
    "3. since their can be large float point division within the calculations, analytical IK might be computationally expestive or infeasible \n"
   ]
  },
  {
   "cell_type": "markdown",
   "metadata": {},
   "source": [
    "### 5. IK controller"
   ]
  },
  {
   "cell_type": "markdown",
   "metadata": {},
   "source": [
    "Implement a closed-loop PD controller that controls the robot along the trajectory `traj`, using the error in the joint-angles as the input signal.\n",
    "\n",
    "Plot the trajectory of the robot juxtaposed over the actual trajectory and caluclate the mean square error between both paths. Also plot the errors with respect to time, and use those plots to tune your controller.\n",
    "\n",
    "**Note: Initialize the robot arm to $q_0=\\pi$ and $q_1=0$**"
   ]
  },
  {
   "cell_type": "code",
   "execution_count": 22,
   "metadata": {},
   "outputs": [],
   "source": [
    "# Write your script here.\n",
    "def PdControllerAngle(kp,kd):\n",
    "    Kp=kp\n",
    "    Kd=kd\n",
    "\n",
    "    ## End-effector pos and velocity\n",
    "    q0, q0_dot = env.unwrapped.robot.central_joint.current_position()\n",
    "    q1, q1_dot = env.unwrapped.robot.elbow_joint.current_position()\n",
    "\n",
    "    ## store ee points- used for plotting\n",
    "    ee_pos_track=[]\n",
    "    mse_track=[]\n",
    "\n",
    "    ##Previous error\n",
    "    error_pos_prev=np.zeros(2).reshape(2,1)\n",
    "    error_angle_prev=np.zeros(2).reshape(2,1)\n",
    "\n",
    "    for i in range(len(traj[:6000])):\n",
    "#         print(\"-- POINT {}\\n --\".format(i+1))\n",
    "        ## get angle configs\n",
    "        q0, q0_dot = env.unwrapped.robot.central_joint.current_position()\n",
    "        q1, q1_dot = env.unwrapped.robot.elbow_joint.current_position()\n",
    "\n",
    "        ## get end-effector position\n",
    "        ee_x,ee_y=getForwardModel(q0,q1)\n",
    "        ee_pos=np.array([ee_x,ee_y]).reshape(2,1)\n",
    "\n",
    "#         print(\"3\\n\")\n",
    "        ## goal end-effector position\n",
    "        ee_goal=np.array(traj[i]).reshape(2,1)\n",
    "\n",
    "#         print(\"4\\n\")\n",
    "        ## store position for plotting\n",
    "        ee_pos_track.append([ee_x,ee_y])\n",
    "\n",
    "#         print(\"5\\n\")\n",
    "        error_pos=ee_goal-ee_pos\n",
    "        del_error_pos=error_pos-error_pos_prev\n",
    "        \n",
    "\n",
    "        goal_angle_raw=getIK(ee_pos,traj[i],[q0,q1])\n",
    "\n",
    "        goal_angle=np.array(goal_angle_raw).reshape(2,1)\n",
    "\n",
    "        error_angle=goal_angle-np.array([q0,q1]).reshape(2,1)\n",
    "        del_error_angle=error_angle-error_angle_prev\n",
    "\n",
    "        ## Force for PD controller\n",
    "        F=Kp*error_angle+Kd*del_error_angle\n",
    "#         print(\"del error angle: {}\\n\".format(del_error_angle))\n",
    "\n",
    "        ## Calculate and apply torque - Tau = (Transpose(J).F)\n",
    "#         tau=np.dot(J.T,F)\n",
    "        env.step(F)\n",
    "\n",
    "        ## Update last error prev - used for delta error\n",
    "#         error_pos_prev=error_pos\n",
    "        \n",
    "        ## Save Error for plot\n",
    "        ee_position_for_updated_angle=getForwardModel(goal_angle_raw[0],goal_angle_raw[1])\n",
    "        mse_val=mse_error(ee_goal,ee_position_for_updated_angle)\n",
    "        mse_track.append(mse_val)\n",
    "        \n",
    "        error_angle_prev=error_angle\n",
    "#         print(\"\\n ** iter:{}\".format(i))\n",
    "\n",
    "#     print(\"MSE ERROR :{}\\n\".format(mse_error(traj,ee_pos_track)))\n",
    "    #print(\"pred len {}\".format(len(ee_pos_track)))\n",
    "    x = [ele[0] for ele in ee_pos_track]\n",
    "    y = [ele[1] for ele in ee_pos_track]\n",
    "    plt.plot(x, y, color=\"r\")\n",
    "    plt.axis('equal')\n",
    "    plot_original_traj(plt)\n",
    "    plt.show()\n",
    "    plt.savefig('pd_arm_traj.png')\n",
    "    \n",
    "    plt.plot(range(len(mse_track)), mse_track, color=\"y\")\n",
    "    print(\"MSE:{}\\n\".format(np.mean(mse_track)))\n",
    "    plt.show()\n",
    "    "
   ]
  },
  {
   "cell_type": "code",
   "execution_count": 23,
   "metadata": {},
   "outputs": [
    {
     "data": {
      "image/png": "[encoded data removed]",
      "text/plain": [
       "<Figure size 640x480 with 1 Axes>"
      ]
     },
     "metadata": {},
     "output_type": "display_data"
    },
    {
     "name": "stdout",
     "output_type": "stream",
     "text": [
      "MSE:5.1074760112821436e-08\n",
      "\n"
     ]
    },
    {
     "data": {
      "image/png": "[encoded data removed]",
      "text/plain": [
       "<Figure size 640x480 with 1 Axes>"
      ]
     },
     "metadata": {},
     "output_type": "display_data"
    }
   ],
   "source": [
    "resetBody()\n",
    "PdControllerAngle(100,math.sqrt(100))"
   ]
  },
  {
   "cell_type": "markdown",
   "metadata": {},
   "source": [
    "### 6. Race Car"
   ]
  },
  {
   "cell_type": "markdown",
   "metadata": {},
   "source": [
    "The objective of the `racecar` environment is to make the race car travel as far as possible on a track within the given time. There are 3 tracks vailable: `FigureEight`, `Linear`, and `Circle` (default).\n",
    "Each track has a different shape, time limit, and horizon length. To set up an environment with a particular track, you can pass the track name while instantiating the environment. For example, to set up the figure eight trajectory:\n",
    "\n",
    "```python\n",
    "from racecar.SDRaceCar import SDRaceCar\n",
    "env = SDRaceCar(render_env=True, track='FigureEight')\n",
    "```\n",
    "\n",
    "To install the race car environment, run the following commands:\n",
    "```bash\n",
    "~ git clone https://github.com/ucsdarclab/RaceCar.git\n",
    "~ cd RaceCar\n",
    "~ pip install -e .\n",
    "```"
   ]
  },
  {
   "cell_type": "markdown",
   "metadata": {},
   "source": [
    "The action space of the environment consists of [wheel angle, thrust]. The range of both these values are normalized to be between $\\pm 1$.The observation space consists of [$x, y, \\theta, v_x, v_y, \\dot\\theta, h$], where ($x, y, \\theta$) is the intertial frame position of the car; $v_x, v_y$ are the longitudinal and lateral velocities  respectively; and $\\dot\\theta$ is the yaw rate. $h$ is the co-ordinate on the track the car has to reach.\n",
    "\n",
    "At each time step, the race car environment gives a reward that is proportional to the speed of the car and its proximity to the track. It terminates (`done = True`) after a fixed amount of time, or if the car gets too far from the track.\n",
    "\n",
    "Using these observations implement a controller that can traverse all three tracks. You may use different gains for different tracks, but the controller itself must be the same. Record the cumulative reward for each track; these rewards will be summed together to create your controller's score. If your controller has the highest score, you win!\n",
    "\n",
    "_Tip:_ if you call `env.render()` at each step to visualize the car's path, you may find that Jupyter interprets each step as a separate image. To avoid this, try running\n",
    "```IPython\n",
    "%matplotlib tk # others include qt, wx, gtk, osx\n",
    "```\n",
    "to load results as animations in a separate window. You may have to experiment with several different backends to find the one that works best with your system."
   ]
  },
  {
   "cell_type": "code",
   "execution_count": 26,
   "metadata": {},
   "outputs": [
    {
     "name": "stdout",
     "output_type": "stream",
     "text": [
      "Cloning into 'RaceCar'...\n",
      "remote: Enumerating objects: 28, done.\u001b[K\n",
      "remote: Total 28 (delta 0), reused 0 (delta 0), pack-reused 28\u001b[K\n",
      "Receiving objects: 100% (28/28), 7.72 KiB | 7.72 MiB/s, done.\n",
      "Resolving deltas: 100% (7/7), done.\n"
     ]
    },
    {
     "data": {
      "text/plain": [
       "'/Users/sbhat/Documents/Purdue/purduePrivate/assignments/a2/pybullet-gym'"
      ]
     },
     "execution_count": 26,
     "metadata": {},
     "output_type": "execute_result"
    }
   ],
   "source": [
    "!git clone https://github.com/ucsdarclab/RaceCar.git\n",
    "%pwd"
   ]
  },
  {
   "cell_type": "code",
   "execution_count": 8,
   "metadata": {},
   "outputs": [
    {
     "name": "stdout",
     "output_type": "stream",
     "text": [
      "[Errno 2] No such file or directory: 'RaceCar'\n",
      "/Users/sbhat/Documents/Purdue/purduePrivate/assignments/a2\n",
      "Obtaining file:///Users/sbhat/Documents/Purdue/purduePrivate/assignments/a2\n",
      "\u001b[31mERROR: file:///Users/sbhat/Documents/Purdue/purduePrivate/assignments/a2 does not appear to be a Python project: neither 'setup.py' nor 'pyproject.toml' found.\u001b[0m\u001b[31m\n",
      "\u001b[0mAssignment2.ipynb   arm_traj_2.png      pbcopy              robotArm.png\n",
      "\u001b[34mRaceCarOG\u001b[m\u001b[m/          arm_traj_error.png  pd_arm_traj.png     shivam.py\n",
      "arm_traj.png        conda_list.txt      \u001b[34mpybullet-gym\u001b[m\u001b[m/       shivamTest2.py\n"
     ]
    }
   ],
   "source": [
    "%cd RaceCar\n",
    "!pip install -e .\n",
    "%ls"
   ]
  },
  {
   "cell_type": "code",
   "execution_count": null,
   "metadata": {},
   "outputs": [],
   "source": [
    "# #### Init ####\n",
    "# from racecar.SDRaceCar import SDRaceCar\n",
    "# trk='Circle'\n",
    "# env = SDRaceCar(render_env=True, track=trk)\n",
    "# env.reset()"
   ]
  },
  {
   "cell_type": "code",
   "execution_count": 9,
   "metadata": {},
   "outputs": [],
   "source": [
    "## Race Car Util Functions ##\n",
    "\n",
    "def get_rotation_mat(angle):\n",
    "    ans=np.array([np.cos(angle),-np.sin(angle),np.sin(angle),np.cos(angle)]).reshape(2,2)\n",
    "    return ans\n",
    "\n",
    "## returns co-ordinated with h as center\n",
    "def moveXYtoCarFrame(h,x,y):\n",
    "    return [h[0]-x,h[1]-y]\n",
    "\n",
    "## rotates the point by theta\n",
    "def doRotation(theta,point,h):\n",
    "    ans=0;\n",
    "    rot_matrix=get_rotation_mat(theta)\n",
    "    ans=np.transpose(rot_matrix)@np.array(moveXYtoCarFrame(h,point[0],point[1]))\n",
    "    return ans\n",
    "\n",
    "def myAngleController(Kp,Kd,pos,err_prev):\n",
    "    return Kp*np.arctan2(pos[1],pos[0])+Kd*(pos[1]-err_prev)\n",
    "\n",
    "def thrustController2(KpThrust,KdThrust,x,y,v_x,v_y,h):\n",
    "    return KpThrust * np.linalg.norm(h - np.array([x, y])) + KdThrust * (-np.linalg.norm([v_x, v_y]))\n",
    "\n",
    "def myAngleController2(Kp,Kd,pos,err_prev):\n",
    "    return Kp*np.arctan2(pos[1],pos[0])+Kd*(pos-err_prev)"
   ]
  },
  {
   "cell_type": "code",
   "execution_count": 10,
   "metadata": {},
   "outputs": [],
   "source": [
    "def raceCarPlay(env,kp_angle,kd_angle,kp_thrust,kd_thrust,pathName,steps):\n",
    "    # define your controller here\n",
    "    trk=pathName\n",
    "#     from racecar.SDRaceCar import SDRaceCar\n",
    "#     env = SDRaceCar(render_env=True, track=trk)\n",
    "    env.reset()\n",
    "\n",
    "    ### main code ###\n",
    "\n",
    "    %matplotlib tk\n",
    "    steps=9999\n",
    "    err_prev=0\n",
    "    car_pos = np.zeros((2,steps))\n",
    "    track_pos = np.zeros((2,steps))\n",
    "    reward=0;\n",
    "    isPathComplete=False\n",
    "    en_ret=[0,0,0,0]\n",
    "    for step in range(steps):\n",
    "        isPathComplete=en_ret[-2]\n",
    "#         print(en_ret[-2])\n",
    "        if(isPathComplete==True):\n",
    "            break\n",
    "        reward+=env.reward()\n",
    "        env.render()\n",
    "        x, y, theta, v_x, v_y, omega, h=env.get_observation()\n",
    "        car_pos[0,step], car_pos[1,step] = x, y\n",
    "        track_pos[0,step], track_pos[1,step] = h[0], h[1]\n",
    "\n",
    "        rotatedShiftedPos=doRotation(theta,[x,y],h)\n",
    "        angle=myAngleController(kp_angle,kd_angle,rotatedShiftedPos,err_prev)\n",
    "\n",
    "        thrust=thrustController2(kp_thrust,kd_thrust,x,y,v_x,v_y,h)\n",
    "        car_action=[angle,thrust]\n",
    "#         print(\"Action {}\\n\".format(car_action))\n",
    "        en_ret=env.step(car_action)\n",
    "#         print(\"env ret {}\\n\".format(len(en_ret)))\n",
    "        err_prev=rotatedShiftedPos[1]\n",
    "    \n",
    "    return reward\n",
    "    # %%\n",
    "\n",
    "\n",
    "\n",
    "# print(rotation_mat(0.5))\n",
    "    "
   ]
  },
  {
   "cell_type": "code",
   "execution_count": 33,
   "metadata": {},
   "outputs": [
    {
     "name": "stdout",
     "output_type": "stream",
     "text": [
      "Reward Car:211.38460348029358\n"
     ]
    }
   ],
   "source": [
    "from racecar.SDRaceCar import SDRaceCar\n",
    "rc_env = SDRaceCar(render_env=True,track='Circle')\n",
    "##PARAMS\n",
    "KpAngle=3\n",
    "KdAngle=0.1\n",
    "KpThrust=6.5\n",
    "KdThrust=1.45\n",
    "\n",
    "steps=1000\n",
    "\n",
    "track=\"Circle\"\n",
    "\n",
    "circle_rwd=raceCarPlay(rc_env,KpAngle,KdAngle,KpThrust,KdThrust,None,steps)\n",
    "print(\"Reward Car:{}\".format(circle_rwd))\n",
    "# run your controller for the 'Circle' environment\n"
   ]
  },
  {
   "cell_type": "code",
   "execution_count": 13,
   "metadata": {},
   "outputs": [
    {
     "name": "stdout",
     "output_type": "stream",
     "text": [
      "Reward Car:70.96802949917131\n"
     ]
    }
   ],
   "source": [
    "from racecar.SDRaceCar import SDRaceCar\n",
    "rc_env = SDRaceCar(render_env=True,track='Linear')\n",
    "##PARAMS\n",
    "KpAngle=3\n",
    "KdAngle=0.1\n",
    "KpThrust=6.5\n",
    "KdThrust=1.45\n",
    "\n",
    "steps=1000\n",
    "\n",
    "track=\"Linear\"\n",
    "\n",
    "linear_rwd=raceCarPlay(rc_env,KpAngle,KdAngle,KpThrust,KdThrust,None,steps)\n",
    "print(\"Reward Car:{}\".format(linear_rwd))\n",
    "# run your controller for the 'Circle' environment\n"
   ]
  },
  {
   "cell_type": "code",
   "execution_count": 25,
   "metadata": {},
   "outputs": [
    {
     "name": "stdout",
     "output_type": "stream",
     "text": [
      "Reward Car:314.5439654137004\n"
     ]
    }
   ],
   "source": [
    "from racecar.SDRaceCar import SDRaceCar\n",
    "rc_env = SDRaceCar(render_env=True,track='FigureEight')\n",
    "##PARAMS\n",
    "KpAngle=3\n",
    "KdAngle=1\n",
    "KpThrust=4\n",
    "KdThrust=1.9\n",
    "\n",
    "steps=1000\n",
    "\n",
    "track=\"FigureEight\"\n",
    "\n",
    "eight_rwd=raceCarPlay(rc_env,KpAngle,KdAngle,KpThrust,KdThrust,None,steps)\n",
    "print(\"Reward Car:{}\".format(eight_rwd))\n",
    "# run your controller for the 'Circle' environment\n"
   ]
  },
  {
   "cell_type": "code",
   "execution_count": 34,
   "metadata": {},
   "outputs": [
    {
     "name": "stdout",
     "output_type": "stream",
     "text": [
      "Total Reward: 596.8965983931653\n",
      "\n"
     ]
    }
   ],
   "source": [
    "print(\"Total Reward: {}\\n\".format(circle_rwd+linear_rwd+eight_rwd))"
   ]
  },
  {
   "cell_type": "code",
   "execution_count": null,
   "metadata": {},
   "outputs": [],
   "source": [
    "rc_env = SDRaceCar(render_env=True,track='FigureEight')\n",
    "# run your controller for the 'FigureEight' environment\n"
   ]
  }
 ],
 "metadata": {
  "kernelspec": {
   "display_name": "Python 3 (ipykernel)",
   "language": "python",
   "name": "python3"
  },
  "language_info": {
   "codemirror_mode": {
    "name": "ipython",
    "version": 3
   },
   "file_extension": ".py",
   "mimetype": "text/x-python",
   "name": "python",
   "nbconvert_exporter": "python",
   "pygments_lexer": "ipython3",
   "version": "3.9.16"
  },
  "vscode": {
   "interpreter": {
    "hash": "31f2aee4e71d21fbe5cf8b01ff0e069b9275f58929596ceb00d14d90e3e16cd6"
   }
  }
 },
 "nbformat": 4,
 "nbformat_minor": 4
}
